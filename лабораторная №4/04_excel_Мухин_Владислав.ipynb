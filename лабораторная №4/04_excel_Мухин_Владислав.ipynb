{
  "metadata": {
    "kernelspec": {
      "name": "python",
      "display_name": "Python (Pyodide)",
      "language": "python"
    },
    "language_info": {
      "codemirror_mode": {
        "name": "ipython",
        "version": 3
      },
      "file_extension": ".py",
      "mimetype": "text/x-python",
      "name": "python",
      "nbconvert_exporter": "python",
      "pygments_lexer": "ipython3",
      "version": "3.9.12"
    },
    "colab": {
      "provenance": []
    }
  },
  "nbformat_minor": 0,
  "nbformat": 4,
  "cells": [
    {
      "cell_type": "markdown",
      "source": [
        "# Работа с Excel"
      ],
      "metadata": {
        "id": "RKbOgLvufPBi"
      }
    },
    {
      "cell_type": "markdown",
      "source": [
        "Материалы:\n",
        "* Макрушин С.В. Лекция 7: Работа с Excel\n",
        "* https://docs.xlwings.org/en/stable/quickstart.html\n",
        "* https://nbviewer.jupyter.org/github/pybokeh/jupyter_notebooks/blob/master/xlwings/Excel_Formatting.ipynb#search_text\n"
      ],
      "metadata": {
        "id": "E7YFOGBKfPBk"
      }
    },
    {
      "cell_type": "markdown",
      "source": [
        "## Задачи для совместного разбора"
      ],
      "metadata": {
        "id": "OOO6P1uyfPBk"
      }
    },
    {
      "cell_type": "markdown",
      "source": [
        "1. На листе \"Рецептура\" файла `себестоимостьА_в1.xlsx` для области \"Пшеничный хлеб\" рассчитать себестоимость всех видов продукции."
      ],
      "metadata": {
        "id": "gmcrhlMxfPBk"
      }
    },
    {
      "cell_type": "code",
      "source": [
        "import xlwings as xw\n"
      ],
      "metadata": {
        "trusted": true,
        "id": "zw3bNpApfPBl"
      },
      "execution_count": null,
      "outputs": []
    },
    {
      "cell_type": "code",
      "source": [
        "import numpy as np\n",
        "import pandas as pd\n",
        "from pandas import ExcelWriter\n",
        "import csv"
      ],
      "metadata": {
        "id": "qLYDo_fyfSTR"
      },
      "execution_count": 1,
      "outputs": []
    },
    {
      "cell_type": "code",
      "source": [
        "book_1 = xw.Book(\"себестоимостьА_в1.xlsx\")\n",
        "sheet = book_1.sheets[\"Рецептура\"]\n",
        "cons = sheet.range(\"G7:O10\").options(np.array).value\n",
        "U_p = sheet.range(\"G14:O14\").options(np.array).value\n",
        "C_p = cons * U_p\n",
        "C_p[np.isnan(C_p)] = 0\n",
        "C_p = np.round(np.sum(C_p, axis=1).tolist(), 2)\n",
        "C_p"
      ],
      "metadata": {
        "trusted": true,
        "id": "73iOxzC6fPBl"
      },
      "execution_count": null,
      "outputs": []
    },
    {
      "cell_type": "markdown",
      "source": [
        "2. Результаты расчетов 1.1 сохранить в отдельном столбце области \"Пшеничный хлеб\""
      ],
      "metadata": {
        "id": "7gy-bhm-fPBl"
      }
    },
    {
      "cell_type": "code",
      "source": [
        "sheet.range(\"T7:T10\").options(transpose=True).value = C_p\n",
        "sheet.range(\"T6\").value = \"Себестоимость\""
      ],
      "metadata": {
        "id": "RoO_bwZBfstP"
      },
      "execution_count": null,
      "outputs": []
    },
    {
      "cell_type": "markdown",
      "source": [
        "3. Приблизить форматирование столбца, добавленного в задаче 2 к оформлению всей области."
      ],
      "metadata": {
        "id": "7W0DgcvafPBm"
      }
    },
    {
      "cell_type": "code",
      "source": [
        "sheet.range(\"T4:T6\").column_width = 15 \n",
        "sheet.range(\"T4:T6\").color = 255,192,0 \n",
        "sheet.range(\"T4:T6\").api.Font.ColorIndex = 2   \n",
        "sheet.range(\"T4:T6\").api.Font.Size = 11\n",
        "sheet.range(\"T4:T10\").api.Borders.Weight = 2\n",
        "sheet.range(\"T4:T6\").api.HorizontalAlignment = -4108\n",
        "sheet.range(\"T4:T6\").api.VerticalAlignment = -4108\n",
        "sheet.range(\"T7:T10\").color = 255,255,167 \n",
        "sheet.range(\"T4:T6\").merge()"
      ],
      "metadata": {
        "id": "2Dpr-Bf0f1gO"
      },
      "execution_count": null,
      "outputs": []
    },
    {
      "cell_type": "markdown",
      "source": [
        "4. Выполнить 3 с помощью \"протягиваемых\" формул."
      ],
      "metadata": {
        "id": "IRcH3trNfPBm"
      }
    },
    {
      "cell_type": "code",
      "source": [
        "sheet.range(\"U7:U10\").formula = \"=SUMPRODUCT(G7:O7, $G$14:$O$14)\""
      ],
      "metadata": {
        "id": "KeiXsTPFf7Md"
      },
      "execution_count": null,
      "outputs": []
    },
    {
      "cell_type": "markdown",
      "source": [
        "## Лабораторная работа 7.1"
      ],
      "metadata": {
        "id": "iKQ8YEMAfPBm"
      }
    },
    {
      "cell_type": "markdown",
      "source": [
        "1. Загрузите данные из файлов `reviews_sample.csv` (__ЛР2__) и `recipes_sample.csv` (__ЛР5__) в виде `pd.DataFrame`. Обратите внимание на корректное считывание столбца(ов) с индексами. Оставьте в таблице с рецептами следующие столбцы: `id`, `name`, `minutes`, `submitted`, `description`, `n_ingredients`"
      ],
      "metadata": {
        "id": "SnjKRMghfPBm"
      }
    },
    {
      "cell_type": "code",
      "source": [
        "reviews = pd.read_csv('reviews_sample.csv', delimiter=',')\n",
        "recipes = pd.read_csv('recipes_sample.csv', delimiter= ',')\n",
        "recipes = recipes[['id', 'name', 'minutes', 'submitted', 'description', 'n_ingredients']]\n",
        "print(reviews.head())\n",
        "print(recipes.head())"
      ],
      "metadata": {
        "id": "xNLD8HL4goE8"
      },
      "execution_count": null,
      "outputs": []
    },
    {
      "cell_type": "markdown",
      "source": [
        "2. Случайным образом выберите 5% строк из каждой таблицы и сохраните две таблицы на разные листы в один файл `recipes.xlsx`. Дайте листам названия \"Рецепты\" и \"Отзывы\", соответствующие содержанию таблиц. "
      ],
      "metadata": {
        "id": "X5syWyNvfPBm"
      }
    },
    {
      "cell_type": "code",
      "source": [
        "from pandas import ExcelWriter\n",
        "writer = ExcelWriter(r'recipes.xlsx')\n",
        "\n",
        "recipe = recipes.sample(frac = 0.05)\n",
        "review = reviews.sample(frac = 0.05)\n",
        "recipe.to_excel(writer, encoding='utf8',sheet_name=\"Рецепты\")\n",
        "review.to_excel(writer, encoding='utf8',sheet_name=\"Отзывы\")\n",
        "writer.save()"
      ],
      "metadata": {
        "id": "nWPM3mupgobb"
      },
      "execution_count": 6,
      "outputs": []
    },
    {
      "cell_type": "markdown",
      "source": [
        "3. Используя `xlwings`, добавьте на лист `Рецепты` столбец `seconds_assign`, показывающий время выполнения рецепта в секундах. Выполните задание при помощи присваивания массива значений диапазону ячеек."
      ],
      "metadata": {
        "id": "YHLhjx6TfPBm"
      }
    },
    {
      "cell_type": "code",
      "source": [
        "sheet = xw.Book('recipes.xlsx').sheets['Рецепты']\n",
        "sheet.range('H1').value = \"second_assign\"\n",
        "\n",
        "sheet.range(\"H2:H1501\").options(transpose=True).value = (recipes[\"minutes\"] * 60).to_numpy()\n",
        "sheet.autofit()"
      ],
      "metadata": {
        "id": "y7R3byMhgoz_"
      },
      "execution_count": null,
      "outputs": []
    },
    {
      "cell_type": "markdown",
      "source": [
        "4. Используя `xlwings`, добавьте на лист `Рецепты` столбец `seconds_formula`, показывающий время выполнения рецепта в секундах. Выполните задание при помощи формул Excel."
      ],
      "metadata": {
        "id": "0sJ0NB5gfPBm"
      }
    },
    {
      "cell_type": "code",
      "source": [
        "sheet.range('I1').value = \"seconds_formula\"\n",
        "sheet.range(\"I2:I1501\").formula = \"=D2*60\"\n",
        "sheet.autofit()"
      ],
      "metadata": {
        "id": "d7d2cL85gpQf"
      },
      "execution_count": null,
      "outputs": []
    },
    {
      "cell_type": "markdown",
      "source": [
        "5. Сделайте названия всех добавленных столбцов полужирными и выровняйте по центру ячейки."
      ],
      "metadata": {
        "id": "aI3bFQcifPBn"
      }
    },
    {
      "cell_type": "code",
      "source": [
        "sheet.range('H1').api.Font.Bold = True\n",
        "sheet.range('I1').api.Font.Bold = True\n",
        "sheet.range('H1').api.HorizontalAlignment = xw.constants.HAlign.xlHAlignCenter\n",
        "sheet.range('I1').api.HorizontalAlignment = xw.constants.HAlign.xlHAlignCenter"
      ],
      "metadata": {
        "id": "y74JSyfHgpsM"
      },
      "execution_count": null,
      "outputs": []
    },
    {
      "cell_type": "markdown",
      "source": [
        "6. Раскрасьте ячейки столбца `minutes` в соответствии со следующим правилом: если рецепт выполняется быстрее 5 минут, то цвет - зеленый; от 5 до 10 минут - жёлтый; и больше 10 - красный."
      ],
      "metadata": {
        "id": "DLMXBRsZfPBn"
      }
    },
    {
      "cell_type": "code",
      "source": [
        "def coloring(a):\n",
        "    c = (a[2], a[1], a[0])\n",
        "    st = '%02x%02x%02x' % c\n",
        "    value = int(st, 16)\n",
        "    return value\n",
        "\n",
        "rgb = sheet.api.Range(\"$D2:$D1501\")\n",
        "rgb.FormatConditions.Add(1, 6, '=5')\n",
        "rgb.FormatConditions(1).Interior.Color=coloring((0,255,0))\n",
        "rgb.FormatConditions.Add(1, 1, '=5',\"=10\")\n",
        "rgb.FormatConditions(2).Interior.Color=coloring((255,255,0))\n",
        "rgb.FormatConditions.Add(1, 5,\"=10\")\n",
        "rgb.FormatConditions(3).Interior.Color=coloring((255,0,0))"
      ],
      "metadata": {
        "id": "bTA5zmyqgqaM"
      },
      "execution_count": null,
      "outputs": []
    },
    {
      "cell_type": "markdown",
      "source": [
        "7. Добавьте на лист `Рецепты`  столбец `n_reviews`, содержащий кол-во отзывов для этого рецепта. Выполните задание при помощи формул Excel."
      ],
      "metadata": {
        "id": "osJooI-efPBn"
      }
    },
    {
      "cell_type": "code",
      "source": [
        "sheet.range('R1').value = 'n_reviews'\n",
        "sheet.range('R2').formula = '=COUNTIF(C2:C1501, \"<>\")'\n",
        "sheet.range('R2').expand('down').formula = sheet.range('R2').formula"
      ],
      "metadata": {
        "id": "a1Vbasjigq0w"
      },
      "execution_count": null,
      "outputs": []
    },
    {
      "cell_type": "markdown",
      "source": [
        "## Лабораторная работа 7.2"
      ],
      "metadata": {
        "id": "f_bQpLAcfPBn"
      }
    },
    {
      "cell_type": "markdown",
      "source": [
        "8. Напишите функцию `validate()`, которая проверяет соответствие всех строк из листа `Отзывы` следующим правилам:\n",
        "    * Рейтинг - это число от 0 до 5 включительно\n",
        "    * Соответствующий рецепт имеется на листе `Рецепты`\n",
        "    \n",
        "В случае несоответствия этим правилам, выделите строку красным цветом"
      ],
      "metadata": {
        "id": "MVQm4xtYfPBn"
      }
    },
    {
      "cell_type": "code",
      "source": [
        "def validate():\n",
        "    reviews_sheet = xw.Book('recipes.xlsx').sheets['Отзывы']\n",
        "    recipes_sheet = xw.Book('recipes.xlsx').sheets['Рецепты']\n",
        "    reviews = reviews_sheet.range('B2:B1501').value\n",
        "    recipes = reviews_sheet.range('C2:C1501').value\n",
        "    for i in range(len(reviews)):\n",
        "        if not (0 <= reviews[i] <= 5):\n",
        "            reviews_sheet.range(f'B{i+2}:C{i+2}').color = (255, 0, 0)\n",
        "        if recipes[i] not in recipes_sheet.range('A2:A1501').value:\n",
        "            reviews_sheet.range(f'B{i+2}:C{i+2}').color = (255, 0, 0)"
      ],
      "metadata": {
        "id": "dcIPMspJqL0p"
      },
      "execution_count": null,
      "outputs": []
    },
    {
      "cell_type": "markdown",
      "source": [
        "9. В файле `recipes_model.csv` находится модель данных предметной области \"рецепты\". При помощи пакета `csv` считайте эти данные. При помощи пакета `xlwings` запишите данные на лист `Модель` книги `recipes_model.xlsx`, начиная с ячейки `A2`, не используя циклы. Сделайте скриншот текущего состояния листа и прикрепите в ячейку ноутбука. "
      ],
      "metadata": {
        "id": "DMI4AMwofPBn"
      }
    },
    {
      "cell_type": "code",
      "source": [
        "with open('recipes_model.csv', 'r', encoding='utf-8') as file:\n",
        "    reader = csv.reader(file, delimiter=\"\\t\")\n",
        "    lst = list(reader)\n",
        "\n",
        "new_book = xw.Book()\n",
        "sheet = new_book.sheets.add('Модель')\n",
        "sheet.range('A2:I18').value = lst\n",
        "new_book.save('recipes_model.xlsx')"
      ],
      "metadata": {
        "id": "QGwZxU6RqMQI"
      },
      "execution_count": null,
      "outputs": []
    },
    {
      "cell_type": "markdown",
      "source": [
        "10. При помощи пакета `xlwings` добавьте в столбец J формулу для описания столбца на языке SQL. Формула должна реализовывать следующую логику:\n",
        "\n",
        "    1\\. в начале строки идут значения из столбцов В и C (значение столбца С приведено к верхнему регистру), разделенные пробелом\n",
        "    \n",
        "    2\\. далее идут слова на основе столбца \"Ключ\"\n",
        "        2.1 если в столбце \"Ключ\" указано значение \"PK\", то дальше через пробел идет ключевое слово \"PRIMARY KEY\"\n",
        "        2.2 если в столбце \"Ключ\" указано значение \"FK\", то дальше через пробел идет ключевое слово \"REFERENCES\", затем значения столбцов H и I в формате \"название_таблицы(название_столбца)\"\n",
        "        \n",
        "    3\\. если в столбце \"Обязательно к заполнению\" указано значение \"Y\" и в столбце \"Ключ\" указано не \"PK\", то дальше через пробел идет ключевое слово \"NOT NULL\".\n",
        "\n",
        "Заполните этой формулой необходимое количество строк, используя \"протягивание\". Количество строк для протягивания определите на основе данных.\n",
        "\n",
        "Сделайте скриншот текущего состояния листа и прикрепите в ячейку ноутбука."
      ],
      "metadata": {
        "id": "J80YyE7MfPBn"
      }
    },
    {
      "cell_type": "code",
      "source": [
        "\n",
        "sheet = xw.Book('recipes_model.xlsx').sheets['Модель']\n",
        "last_row = sheet.range('A' + str(sheet.cells.last_cell.row)).end('up').row\n",
        "formula = '=B2&\" \"&UPPER(C2)'\n",
        "sheet.range('J2').value = formula\n",
        "sheet.range('J2').api.autofill(sheet.range(f'J2:J{last_row}').api, 0)\n",
        "sheet.range('J2:J' + str(last_row)).api.autofit()\n"
      ],
      "metadata": {
        "id": "KCAK8n9oqM-W"
      },
      "execution_count": null,
      "outputs": []
    },
    {
      "cell_type": "markdown",
      "source": [
        "11. При помощи пакета `xlwings` измените стилизацию листа `Модель`.\n",
        "* для заголовков добавьте заливку цвета `00ccff`\n",
        "* примените автоподбор ширины столбца;\n",
        "* сделайте шрифт заголовков полужирным;\n",
        "* добавьте таблице автофильтр.\n",
        "\n",
        "Сделайте скриншот текущего состояния листа и прикрепите в ячейку ноутбука."
      ],
      "metadata": {
        "id": "sRcIJCPdfPBo"
      }
    },
    {
      "cell_type": "code",
      "source": [
        "headers = sheet.range('A1:J1')\n",
        "headers.color = (0, 204, 255)\n",
        "headers.api.Font.Bold = True\n",
        "sheet.autofit('c')\n",
        "sheet.range('A1:J1').api.AutoFilter()"
      ],
      "metadata": {
        "id": "kuBaJnD2qNZh"
      },
      "execution_count": null,
      "outputs": []
    },
    {
      "cell_type": "markdown",
      "source": [
        "12. Посчитайте количество атрибутов для каждой из сущностей. Создайте лист `Статистика` и запишите в него результат группировки, начиная с ячейки \"А1\". Визуализируйте полученный результат при помощи столбчатой диаграммы. Сохраните полученную визуализацию на лист `Статистика`, начиная с ячейки \"E2\".  Сделайте скриншот листа `Статистика` и прикрепите в ячейку ноутбука.\n",
        "\n",
        "* Вы можете воспользоваться методами для визуализации, которые поставляются вместе с объектами `pandas` (см. https://pandas.pydata.org/docs/reference/api/pandas.DataFrame.plot) "
      ],
      "metadata": {
        "id": "675QPJuTfPBo"
      }
    },
    {
      "cell_type": "code",
      "source": [
        "open_book = xw.Book(\"recipes_model.xlsx\")\n",
        "\n",
        "lst = pd.read_csv(\"recipes_model.csv\")\n",
        "stat = lst.groupby(\"Сущность\")[\"Атрибут\"].agg(\"count\")\n",
        "open_book.sheets.add(\"Статистика\").range(\"A1\").value = stat\n",
        "stat.plot(kind=\"bar\")\n",
        "open_book.sheets[\"Статистика\"].pictures.add(stat.plot().figure, name=\"Статистика\", update=True, left=open_book.sheets[\"Статистика\"].range(\"E2\").left, top=open_book.sheets[\"Статистика\"].range(\"E2\").top)\n"
      ],
      "metadata": {
        "id": "SxKJ9z0MqOI6"
      },
      "execution_count": null,
      "outputs": []
    }
  ]
}