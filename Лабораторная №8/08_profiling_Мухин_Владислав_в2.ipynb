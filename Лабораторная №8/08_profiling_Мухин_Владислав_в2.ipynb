{
  "cells": [
    {
      "cell_type": "markdown",
      "metadata": {
        "id": "wumeqQznmehu"
      },
      "source": [
        "## Оптимизация выполнения кода, векторизация, Numba"
      ]
    },
    {
      "cell_type": "markdown",
      "metadata": {
        "id": "o7dCdrHtmehv"
      },
      "source": [
        "Материалы:\n",
        "* Макрушин С.В. Лекция 3: Оптимизация выполнения кода, векторизация, Numba\n",
        "* IPython Cookbook, Second Edition (2018), глава 4\n",
        "* https://numba.pydata.org/numba-doc/latest/user/5minguide.html"
      ]
    },
    {
      "cell_type": "markdown",
      "metadata": {
        "id": "iu2FQlhCmehv"
      },
      "source": [
        "## Задачи для совместного разбора"
      ]
    },
    {
      "cell_type": "markdown",
      "metadata": {
        "id": "iWQQtm92mehw"
      },
      "source": [
        "1. Сгенерируйте массив `A` из `N=1млн` случайных целых чисел на отрезке от 0 до 1000. Пусть `B[i] = A[i] + 100`. Посчитайте среднее значение массива `B`."
      ]
    },
    {
      "cell_type": "code",
      "source": [
        "import random"
      ],
      "metadata": {
        "id": "FkXagwhopD1B"
      },
      "execution_count": 1,
      "outputs": []
    },
    {
      "cell_type": "code",
      "execution_count": 2,
      "metadata": {
        "colab": {
          "base_uri": "https://localhost:8080/"
        },
        "id": "Jru6_HmSmehw",
        "outputId": "7f3922e4-0c66-4c36-eaa9-b641e5033c73"
      },
      "outputs": [
        {
          "output_type": "stream",
          "name": "stdout",
          "text": [
            "Среднее значение массива: 599.737329\n"
          ]
        }
      ],
      "source": [
        "N = 1000000\n",
        "A = [random.randint(0, 1000) for _ in range(N)]\n",
        "B = [a + 100 for a in A]\n",
        "\n",
        "sr = sum(B) / N\n",
        "\n",
        "print(\"Среднее значение массива:\", sr)"
      ]
    },
    {
      "cell_type": "markdown",
      "metadata": {
        "id": "6Ugs9q5-mehw"
      },
      "source": [
        "2. Создайте таблицу 2млн строк и с 4 столбцами, заполненными случайными числами. Добавьте столбец `key`, которые содержит элементы из множества английских букв. Выберите из таблицы подмножество строк, для которых в столбце `key` указаны первые 5 английских букв."
      ]
    },
    {
      "cell_type": "code",
      "source": [
        "import pandas as pd"
      ],
      "metadata": {
        "id": "J2hce0mEpwiG"
      },
      "execution_count": 3,
      "outputs": []
    },
    {
      "cell_type": "code",
      "source": [
        "df = pd.DataFrame({\n",
        "    'col1': [random.randint(0, 100) for _ in range(2000000)],\n",
        "    'col2': [random.randint(0, 100) for _ in range(2000000)],\n",
        "    'col3': [random.randint(0, 100) for _ in range(2000000)],\n",
        "    'col4': [random.randint(0, 100) for _ in range(2000000)]\n",
        "})\n",
        "\n",
        "alphabet = 'abcdefghijklmnopqrstuvwxyz'\n",
        "df['key'] = [''.join(random.choices(alphabet, k=5)) for _ in range(2000000)]\n",
        "subset = df[df['key'].str[:5].isin(list(alphabet)[:5])]\n",
        "\n",
        "print(subset)"
      ],
      "metadata": {
        "colab": {
          "base_uri": "https://localhost:8080/"
        },
        "id": "0rVo9XDQpQ4u",
        "outputId": "dc326343-7e76-4c2b-e525-fd8c455f5ac9"
      },
      "execution_count": 6,
      "outputs": [
        {
          "output_type": "stream",
          "name": "stdout",
          "text": [
            "Empty DataFrame\n",
            "Columns: [col1, col2, col3, col4, key]\n",
            "Index: []\n"
          ]
        }
      ]
    },
    {
      "cell_type": "markdown",
      "metadata": {
        "id": "gcJk7ldumehw"
      },
      "source": [
        "## Лабораторная работа 3"
      ]
    },
    {
      "cell_type": "code",
      "execution_count": 7,
      "metadata": {
        "colab": {
          "base_uri": "https://localhost:8080/"
        },
        "id": "DlimP2Ltmehw",
        "outputId": "9e27c63d-78d2-4091-fbef-fe067b2ed3ba"
      },
      "outputs": [
        {
          "output_type": "stream",
          "name": "stdout",
          "text": [
            "Looking in indexes: https://pypi.org/simple, https://us-python.pkg.dev/colab-wheels/public/simple/\n",
            "Collecting line_profiler\n",
            "  Downloading line_profiler-4.0.3-cp310-cp310-manylinux_2_17_x86_64.manylinux2014_x86_64.whl (661 kB)\n",
            "\u001b[2K     \u001b[90m━━━━━━━━━━━━━━━━━━━━━━━━━━━━━━━━━━━━━━\u001b[0m \u001b[32m661.9/661.9 kB\u001b[0m \u001b[31m10.6 MB/s\u001b[0m eta \u001b[36m0:00:00\u001b[0m\n",
            "\u001b[?25hInstalling collected packages: line_profiler\n",
            "Successfully installed line_profiler-4.0.3\n"
          ]
        }
      ],
      "source": [
        "!pip install line_profiler"
      ]
    },
    {
      "cell_type": "markdown",
      "metadata": {
        "id": "w4WDXOeAmehx"
      },
      "source": [
        "1. В файлах `recipes_sample.csv` и `reviews_sample.csv` (__ЛР 2__) находится информация об рецептах блюд и отзывах на эти рецепты соответственно. Загрузите данные из файлов в виде `pd.DataFrame` с названиями `recipes` и `reviews`. Обратите внимание на корректное считывание столбца(ов) с индексами. Приведите столбцы к нужным типам.\n",
        "\n",
        "Реализуйте несколько вариантов функции подсчета среднего значения столбца `rating` из таблицы `reviews` для отзывов, оставленных в 2010 году.\n",
        "\n",
        "A. С использованием метода `DataFrame.iterrows` исходной таблицы;\n",
        "\n",
        "Б. С использованием метода `DataFrame.iterrows` таблицы, в которой сохранены только отзывы за 2010 год;\n",
        "\n",
        "В. С использованием метода `Series.mean`.\n",
        "\n",
        "Проверьте, что результаты работы всех написанных функций корректны и совпадают. Измерьте выполнения всех написанных функций.\n"
      ]
    },
    {
      "cell_type": "markdown",
      "metadata": {
        "id": "2pV1-va_mehx"
      },
      "source": [
        "2. Какая из созданных функций выполняется медленнее? Что наиболее сильно влияет на скорость выполнения? Для ответа использовать профайлер `line_profiler`. Сохраните результаты работы профайлера в отдельную текстовую ячейку и прокомментируйте результаты его работы.\n",
        "\n",
        "(*). Сможете ли вы ускорить работу функции 1Б, отказавшись от использования метода `iterrows`, но не используя метод `mean`?"
      ]
    },
    {
      "cell_type": "code",
      "source": [
        "recipes = pd.read_csv('recipes_sample.csv', index_col=0)\n",
        "reviews = pd.read_csv('reviews_sample.csv', index_col=0)\n",
        "reviews['date'] = pd.to_datetime(reviews['date'])\n",
        "reviews['rating'] = reviews['rating'].astype(float)\n",
        "def mean_rating_a(reviews):\n",
        "    total = 0\n",
        "    count = 0\n",
        "    for index, row in reviews.iterrows():\n",
        "        if row['date'].year == 2010:\n",
        "            total += row['rating']\n",
        "            count += 1\n",
        "    if count == 0:\n",
        "        return 0\n",
        "    return total / count"
      ],
      "metadata": {
        "id": "o1VltvanvrJd"
      },
      "execution_count": 9,
      "outputs": []
    },
    {
      "cell_type": "code",
      "source": [
        "reviews_2010 = reviews[reviews['date'].dt.year == 2010]\n",
        "\n",
        "def mean_rating_b(reviews_2010):\n",
        "    total = 0\n",
        "    count = 0\n",
        "    for index, row in reviews_2010.iterrows():\n",
        "        total += row['rating']\n",
        "        count += 1\n",
        "    if count == 0:\n",
        "        return 0\n",
        "    return total / count"
      ],
      "metadata": {
        "id": "woI4gockwD-5"
      },
      "execution_count": 10,
      "outputs": []
    },
    {
      "cell_type": "code",
      "source": [
        "def mean_rating_c(reviews):\n",
        "    reviews_2010 = reviews[reviews['date'].dt.year == 2010]\n",
        "    return reviews_2010['rating'].mean()"
      ],
      "metadata": {
        "id": "MWV5J6fVx_bP"
      },
      "execution_count": 11,
      "outputs": []
    },
    {
      "cell_type": "code",
      "source": [
        "print(mean_rating_a(reviews)) \n",
        "print(mean_rating_b(reviews_2010))\n",
        "print(mean_rating_c(reviews))"
      ],
      "metadata": {
        "colab": {
          "base_uri": "https://localhost:8080/"
        },
        "id": "CpnBywIDyCYZ",
        "outputId": "6f59d47f-601a-4f9c-a1f4-14582a4155ee"
      },
      "execution_count": 12,
      "outputs": [
        {
          "output_type": "stream",
          "name": "stdout",
          "text": [
            "4.4544402182900615\n",
            "4.4544402182900615\n",
            "4.4544402182900615\n"
          ]
        }
      ]
    },
    {
      "cell_type": "code",
      "source": [
        "import timeit\n",
        "\n",
        "print(timeit.timeit(lambda: mean_rating_a(reviews), number=10))\n",
        "print(timeit.timeit(lambda: mean_rating_b(reviews_2010), number=10))\n",
        "print(timeit.timeit(lambda: mean_rating_c(reviews), number=10))"
      ],
      "metadata": {
        "colab": {
          "base_uri": "https://localhost:8080/"
        },
        "id": "91NqeypdyKSr",
        "outputId": "43faf425-4ea8-48ce-8a6b-5b7e4ba167be"
      },
      "execution_count": 13,
      "outputs": [
        {
          "output_type": "stream",
          "name": "stdout",
          "text": [
            "59.745576480999716\n",
            "5.7242836890000035\n",
            "0.24351388400009455\n"
          ]
        }
      ]
    },
    {
      "cell_type": "markdown",
      "metadata": {
        "id": "kcPHXcrAmehx"
      },
      "source": [
        "3. Вам предлагается воспользоваться функцией, которая собирает статистику о том, сколько отзывов содержат то или иное слово. Измерьте время выполнения этой функции. Сможете ли вы найти узкие места в коде, используя профайлер? Выпишите (словами), что в имеющемся коде реализовано неоптимально. Оптимизируйте функцию и добейтесь значительного (как минимум, на один порядок) прироста в скорости выполнения."
      ]
    },
    {
      "cell_type": "code",
      "execution_count": 28,
      "metadata": {
        "colab": {
          "base_uri": "https://localhost:8080/"
        },
        "id": "OHdgxIyMmehx",
        "outputId": "c07c8424-50d9-4353-8b61-8581ef4264bc"
      },
      "outputs": [
        {
          "output_type": "stream",
          "name": "stdout",
          "text": [
            "Timer unit: 1e-09 s\n",
            "\n",
            "Total time: 43.4747 s\n",
            "File: <ipython-input-28-727cd87a6db6>\n",
            "Function: get_word_reviews_count at line 3\n",
            "\n",
            "Line #      Hits         Time  Per Hit   % Time  Line Contents\n",
            "==============================================================\n",
            "     3                                           def get_word_reviews_count(df):\n",
            "     4         1       1192.0   1192.0      0.0    word_reviews = {}\n",
            "     5    126679 11363186761.0  89700.6     26.1    for _, row in df.dropna(subset=['review']).iterrows():\n",
            "     6    126679 2579205681.0  20360.2      5.9        recipe_id, review = row['recipe_id'], row['review']\n",
            "     7    126679  606904554.0   4790.9      1.4        words = review.split(' ')\n",
            "     8   6792010 1624759165.0    239.2      3.7        for word in words:\n",
            "     9   6617066 3148232715.0    475.8      7.2            if word not in word_reviews:\n",
            "    10    174944   90047803.0    514.7      0.2                word_reviews[word] = []\n",
            "    11   6792010 4090378124.0    602.2      9.4            word_reviews[word].append(recipe_id)\n",
            "    12                                             \n",
            "    13         1       1036.0   1036.0      0.0    word_reviews_count = {}\n",
            "    14    126679 10467587842.0  82630.8     24.1    for _, row in df.dropna(subset=['review']).iterrows():\n",
            "    15    126679 1554656067.0  12272.4      3.6        review = row['review']\n",
            "    16    126679  607772368.0   4797.7      1.4        words = review.split(' ')\n",
            "    17   6792010 1623210714.0    239.0      3.7        for word in words:\n",
            "    18   6792010 5718782088.0    842.0     13.2            word_reviews_count[word] = len(word_reviews[word])\n",
            "    19         1        555.0    555.0      0.0    return word_reviews_count\n",
            "\n"
          ]
        }
      ],
      "source": [
        "from line_profiler import LineProfiler\n",
        "\n",
        "def get_word_reviews_count(df):\n",
        "  word_reviews = {}\n",
        "  for _, row in df.dropna(subset=['review']).iterrows():\n",
        "      recipe_id, review = row['recipe_id'], row['review']\n",
        "      words = review.split(' ')\n",
        "      for word in words:\n",
        "          if word not in word_reviews:\n",
        "              word_reviews[word] = []\n",
        "          word_reviews[word].append(recipe_id)\n",
        "  \n",
        "  word_reviews_count = {}\n",
        "  for _, row in df.dropna(subset=['review']).iterrows():\n",
        "      review = row['review']\n",
        "      words = review.split(' ')\n",
        "      for word in words:\n",
        "          word_reviews_count[word] = len(word_reviews[word])\n",
        "  return word_reviews_count\n",
        "\n",
        "lp = LineProfiler()\n",
        "lp_wrapper = lp(get_word_reviews_count)\n",
        "lp_wrapper(reviews)\n",
        "lp.print_stats()"
      ]
    },
    {
      "cell_type": "markdown",
      "source": [
        "При анализе результатов выполнения профайлера можно заметить, что основное узкое место - это два вложенных цикла в функции get_word_reviews_count. Каждый раз происходит поиск всех отзывов, содержащих слово, что занимает много времени. Также заметно, что создание списка recipe_id для каждого слова в отзыве не является оптимальным, т.к. достаточно посчитать количество уникальных значений.\n",
        "\n",
        "Для оптимизации функции можно использовать структуру данных Counter из библиотеки collections, которая позволяет считать количество уникальных элементов в списке. Также можно создать словарь word_reviews_count, в котором хранить количество уникальных recipe_id для каждого слова, чтобы не производить повторный поиск в списке word_reviews."
      ],
      "metadata": {
        "id": "053LSyytNB2D"
      }
    },
    {
      "cell_type": "code",
      "source": [
        "from collections import Counter\n",
        "\n",
        "def get_word_reviews_count_optimized(df):\n",
        "    word_reviews = {}\n",
        "    for _, row in df.dropna(subset=['review']).iterrows():\n",
        "        recipe_id, review = row['recipe_id'], row['review']\n",
        "        words = review.split(' ')\n",
        "        for word in words:\n",
        "            if word not in word_reviews:\n",
        "                word_reviews[word] = []\n",
        "            word_reviews[word].append(recipe_id)\n",
        "\n",
        "    word_reviews_count = {}\n",
        "    for word, recipe_ids in word_reviews.items():\n",
        "        word_reviews_count[word] = len(set(recipe_ids))\n",
        "\n",
        "    return word_reviews_count\n",
        "\n",
        "lp = LineProfiler()\n",
        "lp_wrapper = lp(get_word_reviews_count_optimized)\n",
        "lp_wrapper(reviews)\n",
        "lp.print_stats()"
      ],
      "metadata": {
        "colab": {
          "base_uri": "https://localhost:8080/"
        },
        "id": "8tMeDCjQNTQO",
        "outputId": "c06f2b81-e313-43d6-aa42-f8e1b96f6ba7"
      },
      "execution_count": 27,
      "outputs": [
        {
          "output_type": "stream",
          "name": "stdout",
          "text": [
            "Timer unit: 1e-09 s\n",
            "\n",
            "Total time: 23.6691 s\n",
            "File: <ipython-input-27-73b3360df04d>\n",
            "Function: get_word_reviews_count_optimized at line 3\n",
            "\n",
            "Line #      Hits         Time  Per Hit   % Time  Line Contents\n",
            "==============================================================\n",
            "     3                                           def get_word_reviews_count_optimized(df):\n",
            "     4         1       1346.0   1346.0      0.0      word_reviews = {}\n",
            "     5    126679 11042192969.0  87166.7     46.7      for _, row in df.dropna(subset=['review']).iterrows():\n",
            "     6    126679 2567199550.0  20265.4     10.8          recipe_id, review = row['recipe_id'], row['review']\n",
            "     7    126679  598761534.0   4726.6      2.5          words = review.split(' ')\n",
            "     8   6792010 1558786771.0    229.5      6.6          for word in words:\n",
            "     9   6617066 3168036458.0    478.8     13.4              if word not in word_reviews:\n",
            "    10    174944   96255538.0    550.2      0.4                  word_reviews[word] = []\n",
            "    11   6792010 4051107180.0    596.5     17.1              word_reviews[word].append(recipe_id)\n",
            "    12                                           \n",
            "    13         1        475.0    475.0      0.0      word_reviews_count = {}\n",
            "    14    174944   67108412.0    383.6      0.3      for word, recipe_ids in word_reviews.items():\n",
            "    15    174944  519696946.0   2970.6      2.2          word_reviews_count[word] = len(set(recipe_ids))\n",
            "    16                                           \n",
            "    17         1        453.0    453.0      0.0      return word_reviews_count\n",
            "\n"
          ]
        }
      ]
    },
    {
      "cell_type": "markdown",
      "source": [
        "После оптимизации кода мы можем увидеть, что время выполнения сократилось до 23 секунд. (Вместо 43)"
      ],
      "metadata": {
        "id": "8kfHrHvcR88d"
      }
    },
    {
      "cell_type": "markdown",
      "metadata": {
        "id": "qYVKi6iWmehy"
      },
      "source": [
        "4. Напишите несколько версий функции `MAPE` (см. [MAPE](https://en.wikipedia.org/wiki/Mean_absolute_percentage_error)) для расчета среднего абсолютного процентного отклонения значения рейтинга отзыва на рецепт от среднего значения рейтинга по всем отзывам для этого рецепта. \n",
        "    1. Без использования векторизованных операций и методов массивов `numpy` и без использования `numba`\n",
        "    2. Без использования векторизованных операций и методов массивов `numpy`, но с использованием `numba`\n",
        "    3. С использованием векторизованных операций и методов массивов `numpy`, но без использования `numba`\n",
        "    4. C использованием векторизованных операций и методов массивов `numpy` и `numba`\n",
        "    \n",
        "Измерьте время выполнения каждой из реализаций.\n",
        "\n",
        "Замечание: удалите из выборки отзывы с нулевым рейтингом.\n"
      ]
    },
    {
      "cell_type": "code",
      "execution_count": 38,
      "metadata": {
        "id": "zn6MXV_2mehy"
      },
      "outputs": [],
      "source": [
        "#Без использования векторизованных операций и методов массивов numpy и без использования numba:\n",
        "def mape1(ratings):\n",
        "    n = len(ratings)\n",
        "    mean_rating = sum(ratings) / n\n",
        "    mape = 0\n",
        "    count = 0\n",
        "    for rating in ratings:\n",
        "        if rating != 0:\n",
        "            mape += abs(rating - mean_rating) / rating\n",
        "            count += 1\n",
        "    if count > 0:\n",
        "        mape /= count\n",
        "    return mape * 100"
      ]
    },
    {
      "cell_type": "code",
      "execution_count": 39,
      "metadata": {
        "colab": {
          "base_uri": "https://localhost:8080/"
        },
        "id": "6g7RoCWWmehy",
        "outputId": "1cbb8e3e-77e7-4174-c1c6-f1723d713fef"
      },
      "outputs": [
        {
          "output_type": "stream",
          "name": "stdout",
          "text": [
            "Timer unit: 1e-09 s\n",
            "\n",
            "Total time: 1.6524e-05 s\n",
            "File: <ipython-input-38-42d1699bf53a>\n",
            "Function: mape1 at line 2\n",
            "\n",
            "Line #      Hits         Time  Per Hit   % Time  Line Contents\n",
            "==============================================================\n",
            "     2                                           def mape1(ratings):\n",
            "     3         1       1606.0   1606.0      9.7      n = len(ratings)\n",
            "     4         1       1924.0   1924.0     11.6      mean_rating = sum(ratings) / n\n",
            "     5         1        308.0    308.0      1.9      mape = 0\n",
            "     6         1        182.0    182.0      1.1      count = 0\n",
            "     7         5       1743.0    348.6     10.5      for rating in ratings:\n",
            "     8         5       1845.0    369.0     11.2          if rating != 0:\n",
            "     9         5       5214.0   1042.8     31.6              mape += abs(rating - mean_rating) / rating\n",
            "    10         5       2202.0    440.4     13.3              count += 1\n",
            "    11         1        360.0    360.0      2.2      if count > 0:\n",
            "    12         1        498.0    498.0      3.0          mape /= count\n",
            "    13         1        642.0    642.0      3.9      return mape * 100\n",
            "\n"
          ]
        }
      ],
      "source": [
        "from line_profiler import LineProfiler\n",
        "\n",
        "lp = LineProfiler()\n",
        "lp.add_function(mape1)\n",
        "lp_wrapper = lp(mape1)\n",
        "\n",
        "ratings = [1, 2, 3, 4, 5]\n",
        "lp_wrapper(ratings)\n",
        "lp.print_stats()"
      ]
    },
    {
      "cell_type": "code",
      "source": [
        "#Без использования векторизованных операций и методов массивов numpy, но с использованием numba:\n",
        "from numba import jit\n",
        "\n",
        "@jit(nopython=True)\n",
        "def mape2(ratings):\n",
        "    n = len(ratings)\n",
        "    mean_rating = sum(ratings) / n\n",
        "    mape = 0\n",
        "    count = 0\n",
        "    for rating in ratings:\n",
        "        if rating != 0:\n",
        "            mape += abs(rating - mean_rating) / rating\n",
        "            count += 1\n",
        "    if count > 0:\n",
        "        mape /= count\n",
        "    return mape * 100"
      ],
      "metadata": {
        "id": "iP_n39GwXHhs"
      },
      "execution_count": 40,
      "outputs": []
    },
    {
      "cell_type": "code",
      "source": [
        "from line_profiler import LineProfiler\n",
        "\n",
        "lp = LineProfiler()\n",
        "lp.add_function(mape2)\n",
        "lp_wrapper = lp(mape2)\n",
        "\n",
        "ratings = [1, 2, 3, 4, 5]\n",
        "lp_wrapper(ratings)\n",
        "lp.print_stats()"
      ],
      "metadata": {
        "id": "8ZfdibyiXH96",
        "outputId": "1bf5973c-ce0b-4fe4-cf00-445e1058af60",
        "colab": {
          "base_uri": "https://localhost:8080/"
        }
      },
      "execution_count": 42,
      "outputs": [
        {
          "output_type": "stream",
          "name": "stdout",
          "text": [
            "Timer unit: 1e-09 s\n",
            "\n",
            "Total time: 0 s\n",
            "File: <ipython-input-40-35bbfd014744>\n",
            "Function: mape2 at line 4\n",
            "\n",
            "Line #      Hits         Time  Per Hit   % Time  Line Contents\n",
            "==============================================================\n",
            "     4                                           @jit(nopython=True)\n",
            "     5                                           def mape2(ratings):\n",
            "     6                                               n = len(ratings)\n",
            "     7                                               mean_rating = sum(ratings) / n\n",
            "     8                                               mape = 0\n",
            "     9                                               count = 0\n",
            "    10                                               for rating in ratings:\n",
            "    11                                                   if rating != 0:\n",
            "    12                                                       mape += abs(rating - mean_rating) / rating\n",
            "    13                                                       count += 1\n",
            "    14                                               if count > 0:\n",
            "    15                                                   mape /= count\n",
            "    16                                               return mape * 100\n",
            "\n"
          ]
        },
        {
          "output_type": "stream",
          "name": "stderr",
          "text": [
            "<ipython-input-42-1ba3dbc345cc>:4: UserWarning: Adding a function with a __wrapped__ attribute. You may want to profile the wrapped function by adding mape2.__wrapped__ instead.\n",
            "  lp.add_function(mape2)\n",
            "/usr/local/lib/python3.10/dist-packages/line_profiler/line_profiler.py:55: UserWarning: Adding a function with a __wrapped__ attribute. You may want to profile the wrapped function by adding mape2.__wrapped__ instead.\n",
            "  self.add_function(func)\n"
          ]
        }
      ]
    },
    {
      "cell_type": "code",
      "source": [
        "#С использованием векторизованных операций и методов массивов numpy, но без использования numba:\n",
        "import numpy as np\n",
        "\n",
        "def mape3(ratings):\n",
        "    ratings = np.array(ratings)\n",
        "    mean_rating = np.mean(ratings)\n",
        "    mask = (ratings != 0)\n",
        "    mape = np.mean(np.abs(ratings - mean_rating)[mask] / ratings[mask]) * 100\n",
        "    return mape"
      ],
      "metadata": {
        "id": "86L69OD1Xozg"
      },
      "execution_count": 44,
      "outputs": []
    },
    {
      "cell_type": "code",
      "source": [
        "from line_profiler import LineProfiler\n",
        "\n",
        "lp = LineProfiler()\n",
        "lp.add_function(mape3)\n",
        "lp_wrapper = lp(mape3)\n",
        "\n",
        "ratings = [1, 2, 3, 4, 5]\n",
        "lp_wrapper(ratings)\n",
        "lp.print_stats()"
      ],
      "metadata": {
        "id": "VdZ3EtrxXo79",
        "outputId": "327b56ce-bd24-465b-ed00-2b0eb66680e9",
        "colab": {
          "base_uri": "https://localhost:8080/"
        }
      },
      "execution_count": 45,
      "outputs": [
        {
          "output_type": "stream",
          "name": "stdout",
          "text": [
            "Timer unit: 1e-09 s\n",
            "\n",
            "Total time: 0.000222175 s\n",
            "File: <ipython-input-44-fab7c50dc54b>\n",
            "Function: mape3 at line 4\n",
            "\n",
            "Line #      Hits         Time  Per Hit   % Time  Line Contents\n",
            "==============================================================\n",
            "     4                                           def mape3(ratings):\n",
            "     5         1      20958.0  20958.0      9.4      ratings = np.array(ratings)\n",
            "     6         1     107555.0 107555.0     48.4      mean_rating = np.mean(ratings)\n",
            "     7         1      17102.0  17102.0      7.7      mask = (ratings != 0)\n",
            "     8         1      76257.0  76257.0     34.3      mape = np.mean(np.abs(ratings - mean_rating)[mask] / ratings[mask]) * 100\n",
            "     9         1        303.0    303.0      0.1      return mape\n",
            "\n"
          ]
        }
      ]
    },
    {
      "cell_type": "code",
      "source": [
        "#C использованием векторизованных операций и методов массивов numpy и numba:\n",
        "from numba import jit\n",
        "\n",
        "@jit(nopython=True)\n",
        "def mape4(ratings):\n",
        "    ratings = np.array(ratings)\n",
        "    mean_rating = np.mean(ratings)\n",
        "    mask = (ratings != 0)\n",
        "    mape = np.mean(np.abs(ratings - mean_rating)[mask] / ratings[mask]) * 100\n",
        "    return mape"
      ],
      "metadata": {
        "id": "_fEexnbcXznA"
      },
      "execution_count": 47,
      "outputs": []
    },
    {
      "cell_type": "code",
      "source": [
        "from line_profiler import LineProfiler\n",
        "\n",
        "lp = LineProfiler()\n",
        "lp.add_function(mape4)\n",
        "lp_wrapper = lp(mape4)\n",
        "\n",
        "ratings = [1, 2, 3, 4, 5]\n",
        "lp_wrapper(ratings)\n",
        "lp.print_stats()"
      ],
      "metadata": {
        "id": "u4KgVFcOX1Wh",
        "outputId": "648eea8a-20a1-4cb3-c436-c6f875c1d3c8",
        "colab": {
          "base_uri": "https://localhost:8080/"
        }
      },
      "execution_count": 51,
      "outputs": [
        {
          "output_type": "stream",
          "name": "stdout",
          "text": [
            "Timer unit: 1e-09 s\n",
            "\n",
            "Total time: 0 s\n",
            "File: <ipython-input-47-62f1ba6e5e67>\n",
            "Function: mape4 at line 4\n",
            "\n",
            "Line #      Hits         Time  Per Hit   % Time  Line Contents\n",
            "==============================================================\n",
            "     4                                           @jit(nopython=True)\n",
            "     5                                           def mape4(ratings):\n",
            "     6                                               ratings = np.array(ratings)\n",
            "     7                                               mean_rating = np.mean(ratings)\n",
            "     8                                               mask = (ratings != 0)\n",
            "     9                                               mape = np.mean(np.abs(ratings - mean_rating)[mask] / ratings[mask]) * 100\n",
            "    10                                               return mape\n",
            "\n"
          ]
        },
        {
          "output_type": "stream",
          "name": "stderr",
          "text": [
            "<ipython-input-51-8d710028b6ea>:4: UserWarning: Adding a function with a __wrapped__ attribute. You may want to profile the wrapped function by adding mape4.__wrapped__ instead.\n",
            "  lp.add_function(mape4)\n"
          ]
        }
      ]
    },
    {
      "cell_type": "markdown",
      "metadata": {
        "id": "QPMtcyXgmehy"
      },
      "source": [
        "#### [версия 2]\n",
        "* Уточнены формулировки задач 1, 3, 4"
      ]
    },
    {
      "cell_type": "code",
      "execution_count": null,
      "metadata": {
        "id": "ggZM2V45mehy"
      },
      "outputs": [],
      "source": []
    }
  ],
  "metadata": {
    "kernelspec": {
      "display_name": "Python 3",
      "language": "python",
      "name": "python3"
    },
    "language_info": {
      "codemirror_mode": {
        "name": "ipython",
        "version": 3
      },
      "file_extension": ".py",
      "mimetype": "text/x-python",
      "name": "python",
      "nbconvert_exporter": "python",
      "pygments_lexer": "ipython3",
      "version": "3.7.4"
    },
    "colab": {
      "provenance": []
    }
  },
  "nbformat": 4,
  "nbformat_minor": 0
}