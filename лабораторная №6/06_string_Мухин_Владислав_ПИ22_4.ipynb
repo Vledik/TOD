{
  "cells": [
    {
      "cell_type": "markdown",
      "metadata": {
        "id": "R4gsFBzP_77Z"
      },
      "source": [
        "# Работа со строковыми значениями"
      ]
    },
    {
      "cell_type": "markdown",
      "metadata": {
        "id": "QM2txfzp_77a"
      },
      "source": [
        "__Автор задач: Блохин Н.В. (NVBlokhin@fa.ru)__\n",
        "\n",
        "Материалы:\n",
        "* Макрушин С.В. Лекция \"Работа со строковыми значениям\"\n",
        "* https://pyformat.info/\n",
        "* https://docs.python.org/3/library/re.html\n",
        "    * https://docs.python.org/3/library/re.html#flags\n",
        "    * https://docs.python.org/3/library/re.html#functions\n",
        "* https://pythonru.com/primery/primery-primeneniya-regulyarnyh-vyrazheniy-v-python\n",
        "* https://kanoki.org/2019/11/12/how-to-use-regex-in-pandas/\n",
        "* https://realpython.com/nltk-nlp-python/"
      ]
    },
    {
      "cell_type": "markdown",
      "metadata": {
        "id": "_Xz9KfBV_77b"
      },
      "source": [
        "## Задачи для совместного разбора"
      ]
    },
    {
      "cell_type": "markdown",
      "metadata": {
        "id": "xce-Nj4z_77b"
      },
      "source": [
        "1. Вывести на экран данные из словаря `obj` построчно в виде `k = v`, задав формат таким образом, чтобы знак равенства оказался на одной и той же позиции во всех строках. Строковые литералы обернуть в кавычки."
      ]
    },
    {
      "cell_type": "code",
      "execution_count": 1,
      "metadata": {
        "colab": {
          "base_uri": "https://localhost:8080/"
        },
        "id": "3md8VKAe_77b",
        "outputId": "8bede46f-dee2-479f-a90e-85905d690d41"
      },
      "outputs": [
        {
          "output_type": "stream",
          "name": "stdout",
          "text": [
            "home_page  = 'https://github.com/pypa/sampleproject'\n",
            "keywords   = 'sample setuptools development'\n",
            "license    = 'MIT'\n"
          ]
        }
      ],
      "source": [
        "obj = {\n",
        "    \"home_page\": \"https://github.com/pypa/sampleproject\",\n",
        "    \"keywords\": \"sample setuptools development\",\n",
        "    \"license\": \"MIT\",\n",
        "}\n",
        "for k, v in obj.items():\n",
        "    print(f\"{k:10} = '{v}'\")\n"
      ]
    },
    {
      "cell_type": "markdown",
      "metadata": {
        "id": "8EArzFIF_77c"
      },
      "source": [
        "2. Написать регулярное выражение,которое позволит найти номера групп студентов."
      ]
    },
    {
      "cell_type": "code",
      "source": [
        "import pandas as pd\n",
        "import re"
      ],
      "metadata": {
        "id": "KN_L3dP3AbeR"
      },
      "execution_count": 2,
      "outputs": []
    },
    {
      "cell_type": "code",
      "source": [
        "students = pd.Series([\"Евгения гр.ПМ19-1\", \"Илья пм 20-4\", \"Анна 20-3\"])\n",
        "\n",
        "group_pattern = r\"\\d{2}-\\d\"\n",
        "\n",
        "for student in students:\n",
        "    match = re.search(group_pattern, student)\n",
        "    if match is not None:\n",
        "        group = match.group()\n",
        "        print(f\"Группа: {group}\")"
      ],
      "metadata": {
        "colab": {
          "base_uri": "https://localhost:8080/"
        },
        "id": "K-VN2HNpBUHV",
        "outputId": "5fe2534c-7327-492e-cde3-3408a0efc5b5"
      },
      "execution_count": 4,
      "outputs": [
        {
          "output_type": "stream",
          "name": "stdout",
          "text": [
            "Группа: 19-1\n",
            "Группа: 20-4\n",
            "Группа: 20-3\n"
          ]
        }
      ]
    },
    {
      "cell_type": "markdown",
      "metadata": {
        "id": "vnbl5zkU_77c"
      },
      "source": [
        "3. Разбейте текст формулировки задачи 2 на слова."
      ]
    },
    {
      "cell_type": "code",
      "source": [
        "t = \"Написать регулярное выражение, которое позволит найти номера групп студентов.\"\n",
        "w = t.split()\n",
        "print(w)"
      ],
      "metadata": {
        "colab": {
          "base_uri": "https://localhost:8080/"
        },
        "id": "Ce6nyCavBhWT",
        "outputId": "5d9bbd58-c7cd-4e40-88df-84aafe0845d9"
      },
      "execution_count": 7,
      "outputs": [
        {
          "output_type": "stream",
          "name": "stdout",
          "text": [
            "['Написать', 'регулярное', 'выражение,', 'которое', 'позволит', 'найти', 'номера', 'групп', 'студентов.']\n"
          ]
        }
      ]
    },
    {
      "cell_type": "markdown",
      "metadata": {
        "id": "MqERbEd-_77c"
      },
      "source": [
        "## Лабораторная работа 6"
      ]
    },
    {
      "cell_type": "markdown",
      "metadata": {
        "id": "qr9azanq_77d"
      },
      "source": [
        "### Форматирование строк"
      ]
    },
    {
      "cell_type": "markdown",
      "metadata": {
        "id": "N11vnRwL_77d"
      },
      "source": [
        "1\\. Загрузите данные из файла `recipes_sample.csv` (__ЛР2__) в виде `pd.DataFrame` `recipes` При помощи форматирования строк выведите информацию об id рецепта и времени выполнения 5 случайных рецептов в виде таблицы следующего вида:\n",
        "\n",
        "    \n",
        "    |      id      |  minutes  |\n",
        "    |--------------------------|\n",
        "    |    61178     |    65     |\n",
        "    |    202352    |    80     |\n",
        "    |    364322    |    150    |\n",
        "    |    26177     |    20     |\n",
        "    |    224785    |    35     |\n",
        "    \n",
        "Обратите внимание, что ширина столбцов заранее неизвестна и должна рассчитываться динамически, в зависимости от тех данных, которые были выбраны. "
      ]
    },
    {
      "cell_type": "code",
      "source": [
        "recipes = pd.read_csv(\"recipes_sample.csv\")\n",
        "sample_recipes = recipes.sample(n=5)\n",
        "\n",
        "print(\"+{:-^12}+{:-^12}+\".format(\"\", \"\"))\n",
        "print(\"| {:^10} | {:^10} |\".format(\"ID\", \"Minutes\"))\n",
        "print(\"+{:-^12}+{:-^12}+\".format(\"\", \"\"))\n",
        "for index, row in sample_recipes.iterrows():\n",
        "    print(\"| {:^10} | {:^10} |\".format(row['id'], row['minutes']))\n",
        "    print(\"+{:-^12}+{:-^12}+\".format(\"\", \"\"))"
      ],
      "metadata": {
        "colab": {
          "base_uri": "https://localhost:8080/"
        },
        "id": "nR7XDbNgB7LF",
        "outputId": "4849be97-687b-4b8d-8cb0-b894a69ca76f"
      },
      "execution_count": 42,
      "outputs": [
        {
          "output_type": "stream",
          "name": "stdout",
          "text": [
            "+------------+------------+\n",
            "|     ID     |  Minutes   |\n",
            "+------------+------------+\n",
            "|   112496   |     60     |\n",
            "+------------+------------+\n",
            "|   67113    |     15     |\n",
            "+------------+------------+\n",
            "|   426166   |     25     |\n",
            "+------------+------------+\n",
            "|   233954   |     30     |\n",
            "+------------+------------+\n",
            "|   79719    |     32     |\n",
            "+------------+------------+\n"
          ]
        }
      ]
    },
    {
      "cell_type": "markdown",
      "metadata": {
        "id": "BWYqccye_77d"
      },
      "source": [
        "2\\. Напишите функцию `show_info`, которая по данным о рецепте создает строку (в смысле объекта python) с описанием следующего вида:\n",
        "\n",
        "```\n",
        "\"Название Из Нескольких Слов\"\n",
        "\n",
        "1. Шаг 1\n",
        "2. Шаг 2\n",
        "----------\n",
        "Автор: contributor_id\n",
        "Среднее время приготовления: minutes минут\n",
        "```\n",
        "\n",
        "    \n",
        "Данные для создания строки получите из файлов `recipes_sample.csv` (__ЛР2__) и `steps_sample.xml` (__ЛР3__). \n",
        "Вызовите данную функцию для рецепта с id `170895` и выведите (через `print`) полученную строку на экран."
      ]
    },
    {
      "cell_type": "code",
      "source": [
        "from bs4 import BeautifulSoup"
      ],
      "metadata": {
        "id": "6uCzt-jHCyOS"
      },
      "execution_count": 12,
      "outputs": []
    },
    {
      "cell_type": "code",
      "source": [
        "df_recipes = pd.read_csv('recipes_sample.csv')\n",
        "with open('steps_sample.xml') as f: soup = BeautifulSoup(f, 'xml')\n",
        "\n",
        "dict = {}\n",
        "for recipe in soup.find_all('recipe'):\n",
        "    recipe_id = int(recipe.id.text)\n",
        "    steps = [step.text for step in recipe.find_all('step')]\n",
        "    dict[recipe_id] = steps\n",
        "\n",
        "def Info(recipe_id):\n",
        "    row = df_recipes.loc[df_recipes['id'] == recipe_id]\n",
        "    name = row['name'].iloc[0]\n",
        "    minutes = row['minutes'].iloc[0]\n",
        "    author_id = row['contributor_id'].iloc[0]\n",
        "    steps = dict[recipe_id]\n",
        "    s= f'Название: \"{name.title()}\"\\n\\n'\n",
        "    for index, step in enumerate(steps): s+= f'{index+1}. {step.capitalize()}\\n'\n",
        "    s+= '-' * 10 + '\\n'\n",
        "    s+= f'Автор: {author_id}\\n'\n",
        "    s+= f'Среднее время: {minutes} минут\\n'\n",
        "    return s\n",
        "\n",
        "print(Info(170895))"
      ],
      "metadata": {
        "colab": {
          "base_uri": "https://localhost:8080/"
        },
        "id": "QnE_Q_niCycS",
        "outputId": "0ead7ea4-c868-4f67-9f99-830a0a8ead24"
      },
      "execution_count": 17,
      "outputs": [
        {
          "output_type": "stream",
          "name": "stdout",
          "text": [
            "Название: \"Leeks And Parsnips  Sauteed Or Creamed\"\n",
            "\n",
            "1. Clean the leeks and discard the dark green portions\n",
            "2. Cut the leeks lengthwise then into one-inch pieces\n",
            "3. Melt the butter in a medium skillet , med\n",
            "4. Heat\n",
            "5. Add the garlic and fry 'til fragrant\n",
            "6. Add leeks and fry until the leeks are tender , about 6-minutes\n",
            "7. Meanwhile , peel and chunk the parsnips into one-inch pieces\n",
            "8. Place in a steaming basket and steam 'til they are as tender as you prefer\n",
            "9. I like them fork-tender\n",
            "10. Drain parsnips and add to the skillet with the leeks\n",
            "11. Add salt and pepper\n",
            "12. Gently sautee together for 5-minutes\n",
            "13. At this point you can serve it , or continue on and cream it:\n",
            "14. In a jar with a screw top , add the half-n-half and arrowroot\n",
            "15. Shake 'til blended\n",
            "16. Turn heat to low under the leeks and parsnips\n",
            "17. Pour in the arrowroot mixture , stirring gently as you pour\n",
            "18. If too thick , gradually add the water\n",
            "19. Let simmer for a couple of minutes\n",
            "20. Taste to adjust seasoning , probably an additional 1 / 2 teaspoon salt\n",
            "21. Serve warm\n",
            "----------\n",
            "Автор: 8377\n",
            "Среднее время: 27 минут\n",
            "\n"
          ]
        }
      ]
    },
    {
      "cell_type": "markdown",
      "metadata": {
        "id": "94vjMiJ6_77d"
      },
      "source": [
        "## Работа с регулярными выражениями"
      ]
    },
    {
      "cell_type": "markdown",
      "metadata": {
        "id": "ihvrjhk0_77e"
      },
      "source": [
        "3\\. Напишите регулярное выражение, которое ищет следующий паттерн в строке: число (1 цифра или более), затем пробел, затем слова: hour или hours или minute или minutes. Произведите поиск по данному регулярному выражению в каждом шаге рецепта с id 25082. Выведите на экран все непустые результаты, найденные по данному шаблону."
      ]
    },
    {
      "cell_type": "code",
      "source": [
        "import xml.etree.ElementTree as ET"
      ],
      "metadata": {
        "id": "8tzvSbdFEBJr"
      },
      "execution_count": 18,
      "outputs": []
    },
    {
      "cell_type": "code",
      "source": [
        "xml_tree = ET.parse('steps_sample.xml')\n",
        "xml_root = xml_tree.getroot()\n",
        "for recipe in xml_root.findall(\".//recipe[id='25082']\"):\n",
        "    for i, step in enumerate(recipe.findall(\"steps/step\"), 1):\n",
        "        matches = re.findall(r'\\d+\\s+(?:hour|minute)s?', step.text)\n",
        "        if matches: print(f\"Шаг {i}: {', '.join(matches)}\")"
      ],
      "metadata": {
        "colab": {
          "base_uri": "https://localhost:8080/"
        },
        "id": "uubJCg90EBM6",
        "outputId": "30e1e207-f97e-492b-cac1-e3405cf37f19"
      },
      "execution_count": 22,
      "outputs": [
        {
          "output_type": "stream",
          "name": "stdout",
          "text": [
            "Шаг 6: 20 minutes\n",
            "Шаг 8: 10 minutes\n",
            "Шаг 10: 2 hours\n",
            "Шаг 14: 10 minutes\n",
            "Шаг 17: 20 minutes, 30 minutes\n"
          ]
        }
      ]
    },
    {
      "cell_type": "markdown",
      "metadata": {
        "id": "T9Qm0pIW_77e"
      },
      "source": [
        "4\\. Напишите регулярное выражение, которое ищет шаблон вида \"this..., but\" _в начале строки_ . Между словом \"this\" и частью \", but\" может находиться произвольное число букв, цифр, знаков подчеркивания и пробелов. Никаких других символов вместо многоточия быть не может. Пробел между запятой и словом \"but\" может присутствовать или отсутствовать.\n",
        "\n",
        "Используя строковые методы `pd.Series`, выясните, для каких рецептов данный шаблон содержится в тексте описания. Выведите на экран количество таких рецептов и 3 примера подходящих описаний (текст описания должен быть виден на экране полностью)."
      ]
    },
    {
      "cell_type": "code",
      "source": [
        "data_frame = pd.read_csv('recipes_sample.csv')\n",
        "data_frame['description'].fillna(' ', inplace=True)\n",
        "pattern = '^this[\\w\\d\\s]+,[ ]?but'\n",
        "matched_rows = data_frame[data_frame['description'].str.contains(pattern, regex=True)]\n",
        "print('Кол-во подходящих описаний:', matched_rows.shape[0])\n",
        "pd.set_option('max_colwidth', int(matched_rows['description'].apply(len).max() + 10))\n",
        "print(matched_rows['description'].sample(3))"
      ],
      "metadata": {
        "colab": {
          "base_uri": "https://localhost:8080/"
        },
        "id": "oZBoRn23Exe2",
        "outputId": "e33c649b-6e95-4786-d666-5928bce5352e"
      },
      "execution_count": 24,
      "outputs": [
        {
          "output_type": "stream",
          "name": "stdout",
          "text": [
            "Кол-во подходящих описаний: 134\n",
            "28090                                    this sounds so good, but have not tried it yet as i am the only tuna lover in my house.  let me know how it is!\n",
            "3356     this is not only fantastic hot, but also exceptional cold. if you like blue cheese,you will fall all over yourself on this wonderful meat loaf.\n",
            "21471                               this is a different, but super combo, the taste is fantastic, i am quite sure that you will love this recipe. enjoy!\n",
            "Name: description, dtype: object\n"
          ]
        }
      ]
    },
    {
      "cell_type": "markdown",
      "metadata": {
        "id": "9MMXwCT0_77e"
      },
      "source": [
        "5\\. В текстах шагов рецептов обыкновенные дроби имеют вид \"a / b\". Используя регулярные выражения, уберите в тексте шагов рецепта с id 72367 пробелы до и после символа дроби. Выведите на экран шаги этого рецепта после их изменения."
      ]
    },
    {
      "cell_type": "code",
      "source": [
        "df_recipes = pd.read_csv('recipes_sample.csv')\n",
        "df_recipes['description'].fillna(' ', inplace=True)\n",
        "pattern = '^this[\\w\\d\\s]+,[ ]?but'\n",
        "matches = df_recipes[df_recipes['description'].str.contains(pattern, regex=True)]\n",
        "\n",
        "print('Количество совпадающих описаний:', matches.shape[0])\n",
        "pd.set_option('max_colwidth', int(matches['description'].apply(len).max() + 10))\n",
        "print(matches['description'].sample(3))\n",
        "\n",
        "tree = ET.parse('steps_sample.xml')\n",
        "root = tree.getroot()\n",
        "recipe_id = '72367'\n",
        "recipe_steps = root.findall(f\".//recipe[id='{recipe_id}']/steps/step\")\n",
        "for step in recipe_steps:\n",
        "    step_text = step.text\n",
        "    if step_text:\n",
        "        step_text = re.sub(r'\\s*/\\s*', '/', step_text)\n",
        "        step.text = step_text\n",
        "for step in recipe_steps: print(step.text)"
      ],
      "metadata": {
        "colab": {
          "base_uri": "https://localhost:8080/"
        },
        "id": "_69ImknFFZ0d",
        "outputId": "65822653-1bc7-4405-c326-aa69f7570091"
      },
      "execution_count": 26,
      "outputs": [
        {
          "output_type": "stream",
          "name": "stdout",
          "text": [
            "Количество совпадающих описаний: 134\n",
            "19431    this is an easy cake, but taste so devine. be prepared to be very popular where ever you take it. it is pretty so it looks like you worked a lot harder on it than you really have to. yummy!!\n",
            "29967                                               this recipe is pretty close to bizzare, but it is very \"tasty\" and moist. i was dubious about it, but i did try and am really glad i did. try it...\n",
            "15994                                                                        this is a great recipe to serve as an appetizer for two or three people, but i will make it for just me as a light supper.\n",
            "Name: description, dtype: object\n",
            "mix butter , flour , 1/3 c\n",
            "sugar and 1-1/4 t\n",
            "vanilla\n",
            "press into greased 9\" springform pan\n",
            "mix cream cheese , 1/4 c\n",
            "sugar , eggs and 1/2 t\n",
            "vanilla beating until fluffy\n",
            "pour over dough\n",
            "combine apples , 1/3 c\n",
            "sugar and cinnamon\n",
            "arrange on top of cream cheese mixture and sprinkle with almonds\n",
            "bake at 350 for 45-55 minutes , or until tester comes out clean\n"
          ]
        }
      ]
    },
    {
      "cell_type": "markdown",
      "metadata": {
        "id": "HdV7BFGg_77e"
      },
      "source": [
        "### Сегментация текста"
      ]
    },
    {
      "cell_type": "markdown",
      "metadata": {
        "id": "nNIirmMq_77e"
      },
      "source": [
        "6\\. Разбейте тексты шагов рецептов на слова при помощи пакета `nltk`. Посчитайте и выведите на экран кол-во уникальных слов среди всех рецептов. Словом называется любая последовательность алфавитных символов (для проверки можно воспользоваться `str.isalpha`). При подсчете количества уникальных слов не учитывайте регистр."
      ]
    },
    {
      "cell_type": "code",
      "source": [
        "!pip install nltk\n",
        "\n",
        "import nltk\n",
        "from nltk.tokenize.toktok import ToktokTokenizer\n"
      ],
      "metadata": {
        "colab": {
          "base_uri": "https://localhost:8080/"
        },
        "id": "Aco_giWmKbnR",
        "outputId": "5bc5b867-0fdc-4724-e8ec-3de5bf718c17"
      },
      "execution_count": 27,
      "outputs": [
        {
          "output_type": "stream",
          "name": "stdout",
          "text": [
            "Looking in indexes: https://pypi.org/simple, https://us-python.pkg.dev/colab-wheels/public/simple/\n",
            "Requirement already satisfied: nltk in /usr/local/lib/python3.10/dist-packages (3.8.1)\n",
            "Requirement already satisfied: click in /usr/local/lib/python3.10/dist-packages (from nltk) (8.1.3)\n",
            "Requirement already satisfied: joblib in /usr/local/lib/python3.10/dist-packages (from nltk) (1.2.0)\n",
            "Requirement already satisfied: regex>=2021.8.3 in /usr/local/lib/python3.10/dist-packages (from nltk) (2022.10.31)\n",
            "Requirement already satisfied: tqdm in /usr/local/lib/python3.10/dist-packages (from nltk) (4.65.0)\n"
          ]
        }
      ]
    },
    {
      "cell_type": "code",
      "source": [
        "recipe_steps_dict = {}\n",
        "for recipe in soup.find_all('recipe'):\n",
        "    recipe_id = int(recipe.id.text)\n",
        "    steps = [step.text for step in recipe.find_all('step')]\n",
        "    recipe_steps_dict[recipe_id] = steps\n",
        "flat_steps = [step.lower() for steps in recipe_steps_dict.values() for step in steps]\n",
        "toktok = ToktokTokenizer()\n",
        "token_list = toktok.tokenize(flat_steps)\n",
        "word_list = filter(str.isalpha, token_list)\n",
        "unique_word_set = set(word_list)\n",
        "\n",
        "print(f\"Уникальных слов: {len(unique_word_set)}\")"
      ],
      "metadata": {
        "colab": {
          "base_uri": "https://localhost:8080/"
        },
        "id": "AWEUFIlgKbqB",
        "outputId": "0cd2e099-ebcf-40c2-a7d2-23792c4069dd"
      },
      "execution_count": 30,
      "outputs": [
        {
          "output_type": "stream",
          "name": "stdout",
          "text": [
            "Уникальных слов: 14953\n"
          ]
        }
      ]
    },
    {
      "cell_type": "markdown",
      "metadata": {
        "id": "8wz9aAAo_77e"
      },
      "source": [
        "7\\. Разбейте описания рецептов из `recipes` на предложения при помощи пакета `nltk`. Найдите 5 самых длинных описаний (по количеству _предложений_) рецептов в датасете и выведите строки фрейма, соответствующие этим рецептами, в порядке убывания длины."
      ]
    },
    {
      "cell_type": "code",
      "source": [
        "import nltk\n",
        "nltk.download('punkt')"
      ],
      "metadata": {
        "colab": {
          "base_uri": "https://localhost:8080/"
        },
        "id": "7YLkOplpLfKn",
        "outputId": "1474d4ff-89f4-45f8-e210-ba40df609edc"
      },
      "execution_count": 36,
      "outputs": [
        {
          "output_type": "stream",
          "name": "stderr",
          "text": [
            "[nltk_data] Downloading package punkt to /root/nltk_data...\n",
            "[nltk_data]   Unzipping tokenizers/punkt.zip.\n"
          ]
        },
        {
          "output_type": "execute_result",
          "data": {
            "text/plain": [
              "True"
            ]
          },
          "metadata": {},
          "execution_count": 36
        }
      ]
    },
    {
      "cell_type": "code",
      "source": [
        "data = pd.read_csv('recipes_sample.csv')\n",
        "data['description'] = data['description'].fillna('')\n",
        "data['description'] = data['description'].astype(str)\n",
        "num_sentences_list = []\n",
        "for desc in data['description']:\n",
        "    sentences = nltk.sent_tokenize(desc)\n",
        "    num_sentences_list.append(len(sentences))\n",
        "\n",
        "data['num_sentences'] = num_sentences_list\n",
        "sorted_recipes = data.sort_values(by='num_sentences', ascending=False)\n",
        "for desc in sorted_recipes.head(5)['description']:\n",
        "    print(desc)\n",
        "    print('-' * 80)\n",
        "\n",
        "\n"
      ],
      "metadata": {
        "colab": {
          "base_uri": "https://localhost:8080/"
        },
        "id": "aGaKXxS1LgCz",
        "outputId": "223e87fa-df90-49ee-fc0c-750092d1529a"
      },
      "execution_count": 43,
      "outputs": [
        {
          "output_type": "stream",
          "name": "stdout",
          "text": [
            "this wonderful icing is used for icing cakes and cookies as well as for borders and art work on cakes.  it makes a delicious filling also between the layers of cakes and under fondant icing.  you can make roses but it takes 3 or more days to dry them depending on the humidity. \r\n",
            "\r\n",
            "there are many versions of “buttercream” icing. some are made with eggs and all butter.  some varieties, you have to cook your sugar to a softball stage.  others are 100% shortening or a combination of shortening and butter.\r\n",
            "\r\n",
            "each decorator has his or her favorite.  i personally think that the best taste and textured recipe is the one that has you cook your sugar, add to whipped eggs and use pounds of butter per batch. but…. i live in a state that can easily be a 100 degrees for days on end during the summer and you know what butter does on hot days.  it melts!  a greasy puddle of melted icing on a cake plate is not something i want to look at or eat.  \r\n",
            "\r\n",
            "your top notch decorators have a few options we don’t.  they have huge refrigerators to store their cakes in, and refrigerated vehicles that they can use to deliver decorated cakes. i even know a few that refuse to deliver at all. if you want their cake, you come and get it and it’s your responsibility if it melts.  these decorators don’t even turn on their ovens for a wedding cake for less than $2000.  \r\n",
            "\r\n",
            "the following recipes for buttercream icing hold up pretty well in the heat and humidity, but if you know that your cake will be out in very high temperatures, then don’t use any butter and use only a high quality shortening.  \r\n",
            "\r\n",
            "shortening:  \r\n",
            "\r\n",
            "solid shortenings definitely have their place in baking. so i’m going to talk taste tests. crisco is the hands down winner. it has a clean taste with the melting point of 106 degrees. butter melts somewhere between 88 and 98 degrees f. depending on the amount of fat in the brand.  you can see that if you need to serve a pure buttercream decorated cake, on a hot august afternoon, you could have melted roses (and i do mean greasy puddles) on the tablecloth. this is when a good quality shortening will be a great blessing. i have been told by decorator friends that some of the warehouse brand shortenings leave a grainy consistency to the icing no matter what you do.  \r\n",
            "\r\n",
            "powdered (confectioner's) sugar:  \r\n",
            "\r\n",
            "regarding powdered sugar. please use a cane sugar. i prefer c&h powdered (confectioners) sugar.  many of the cheaper brands use sugar beets for their base.  i don’t know the chemistry behind it but you definitely get different textures to your icing that can vary from batch to batch.  i spent a few months being very frustrated with the quality of my icing until a kind lady did a bit of trouble shooting for me. she recommended the cane sugar and i’ve been blessing her ever since.\r\n",
            "\r\n",
            "top-quality brands:  \r\n",
            "\r\n",
            "please be safe, buy a quality brands and then stick with it for the best results. a friend of mine, who is a wonderful cook and baker, travels a lot and she often prepares treats for her hosts. she’s learned to ask the host to have her favorite shortening and flour on hand. she has even made up a little makeup type case that carries her favorite extracts and precious spices. that way she knows what she is working with, how it handles, and what tastes she can expect for the finished product. some surprises are not pleasant. \r\n",
            "\r\n",
            "storing buttercream icing: \r\n",
            "\r\n",
            "if you are not going to be using the icing right away, place it in a clean, sealable bowl. store it in the refrigerator but please don’t place it next to the marinating salmon, garlic or broccoli.  you do not want those flavors in your icing!  i like to use my icing within a few days but it will hold in the cold refrigerator for a couple of weeks if necessary.  \r\n",
            "\r\n",
            "i often make a double batch of icing the night before i have a baking project.  that way i know that i have plenty of icing, it’s fresh and i don’t have to make it while i’m in the middle of baking the cakes.  the extra can always be used for a batch of cupcakes.\r\n",
            "\r\n",
            "when you remove the icing from the refrigerator, you might notice that the icing has taken on a sponge like texture. do yourself a favor and place the icing in a bowl and mix by hand using a back and forth, smashing motion with a spoon or icing spatula. what you want to do is to smash the bubbles out of the icing. this extra step will help to give you the smoothest icing for a pretty top and sides of the cake. i have found that you will get an even better texture of icing if it is at room temperature before you try to do your icing.\r\n",
            "\r\n",
            "bad buttercream icing days:  \r\n",
            "\r\n",
            "one thing that seems very silly but is true. there are bad buttercream days! i’ve asked quite a few decorators about this and every one says “yes, there are lousy days”. i’m not sure what causes the problem. \r\n",
            "\r\n",
            "it could be that every human has bad days so they blame the buttercream. \r\n",
            "\r\n",
            "it may be the humidity or that there is a low pressure system hanging over your town. \r\n",
            "\r\n",
            "i just know why but it is a perceived fact. the way i have handled the problem is that i changed the decoration on the cake.  i couldn’t get the smooth top or sides as i originally planned. writing a greeting on a messy top would look awful so i changed the design idea and put flowers everywhere. i could have also done a basket weave technique around the sides. just go with the flow, and don’t get frustrated. aunt martha won’t chuck the cake at you if you don’t write her name on the top this time. remember that you are creating something that is to be eaten so have fun with it.  \r\n",
            "\r\n",
            "different mixers:\r\n",
            "\r\n",
            "if you have a heavy duty counter mixer, you can prepare a whole batch at one time.  if you are using a hand mixer, divide the recipe in half.  if you notice the mixer getting hot, please stop and let the machine cool off.\r\n",
            "\r\n",
            "i also prefer to mix the buttercream on a low setting. it seems that the higher setting do the job faster but you also will get a spongy texture to the icing. i don’t want that quality in my final ice coating or flowers on the cake. \r\n",
            "\r\n",
            "using weight scales:\r\n",
            "\r\n",
            "1 cup of crisco weighs 6 ounces.  \r\n",
            "\r\n",
            "i put a piece of wax paper on my scale and start plopping spoons of shortening on until i get the desired weight. it really saves on the cleanup.  \r\n",
            "\r\n",
            "\r\n",
            "\r\n",
            "recipe from peggy at whatscookingamerica.net\n",
            "--------------------------------------------------------------------------------\n",
            "a translucent golden-brown crust allows the green of the avocado to be seen.  the crispy exterior is a counterpoint to the unctuous interior.  these are a signature dish for me, and the one i most often get requests to make (although my seafood and ricotta stuffed buckwheat pancakes run a close second).\r\n",
            "\r\n",
            "these fritters came about ten years ago when i was shopping for a dinner i was making for a friend who is a cia-trained chef.  i was in a vegetable market and saw these gorgeous avocados that i just knew would be ripe in the next two days.  i tried to think of what i could do with them since a) everyone serves cold avocado, and b) i really am not fond of guacamole.  as i tried to think of what i could make with them that was hot, the work 'fritters' jumped into my head.  having never made a fritter before, i was a little surprised to have that thought; but having never known when a vegetable was going to be ripe before i figured i was on a roll and decided to go for it.\r\n",
            "\r\n",
            "to serve with my never-before-tried-fritters, i decided to make a crème fraîche-lime-cayenne dipping sauce.  so i made fresh crème fraîche, and used it as a base not only for this dip, but for a tia maria sauce to go with the flourless chocolate cake i made for dessert (another never-before made item, but with the recipe from cook's illustrated it was the only thing i wasn't making up as i went along).\r\n",
            "\r\n",
            "the result of the fritters was that i got to taste the test fritter, then had to dive across the couch before the last one was devoured in order to have a second.\r\n",
            "\r\n",
            "the one evolution in the recipe is the change from cayenne to chipotle in the dip.  i like the smokiness, and it gives a rough edge to something very smooth - i am all about contrast.  feel free to use whatever chile or combination thereof that you like best.  this dip is easy and stands on it's own at a party for anything you want to dip into it.  i have also made it with vegan sour cream with great results.\r\n",
            "\r\n",
            "the name alligator claws comes from an alternate name for the avocado: the alligator pear, as well as the fact that the wedges of avocado look like claws.\r\n",
            "\r\n",
            "(for those not familiar with the name alligator pear, it derives from both the tough, textured exterior - reminiscent of an alligator's hide, and the fact that you really can't eat one until it softens - just like a pear.)\r\n",
            "\r\n",
            "alligator claws are also a great name to call them if you have kids who either won't eat anything that sounds weird and you want to keep them to yourself, or - if you want your kids to eat them - if you have kids who'll only eat things that will gross other people out.\r\n",
            "\r\n",
            "if you are preparing these for kids (and i recommend you do whatever name you choose to call them), protect their palates and tone down the heat of the sauce.  maybe skip the chiles altogether and put in just a hint of finely ground pepper (white pepper won't look like black specks throughout the dip - i'm normally not that fussy, but it's something kids will notice).\r\n",
            "\r\n",
            "allow half an avocado per person.  this is so rich that more is too much.\r\n",
            "\r\n",
            "note:\r\n",
            "you can easily cut the recipe in half, all the batter is is a one-to-one mix of flour & water (someone has suggested trying tempura batter which comes in a mix at many supermarkets - i tend to be a from-scratch kind of guy.  or do i just mean itchy?).\r\n",
            "\r\n",
            "enjoy.\r\n",
            "\r\n",
            "-- text by michael david winter, aka the poker roach\n",
            "--------------------------------------------------------------------------------\n",
            "this is one of the best soups i've ever made and it is even worthy of company.  so simple, yet rich in deep, mushroomy flavor.  the inspiration was zaar #26877, a delicious mushroom rice casserole.  i found i couldn't stop eating the liquid before putting the casserole into the oven and that gave me the idea that the base  would make a delicious soup.  and it does! \r\n",
            "use plenty of fresh mushrooms.  i buy them when they are marked 1/2 price at the grocery, as this is a good way to use your 'shrooms that are starting to get dark.  it is the soy sauce that transforms the broth from ho-hum to yum.  i try to use low sodium or home-made no sodium chicken broth so that i can use the soy for the sodium.  there is no sense of \"asian\" in this soup at all.  ( i would not make this without the soy. )  just a little bit adds the depth of flavor and even color that transforms the soup.\r\n",
            "\r\n",
            "notes:\r\n",
            "1. if you want to make it into \"cream of\" just add some evaporated milk...delicious. \r\n",
            "\r\n",
            "2.  once i broke up a leftover ground sirloin burger into my soup bowl and nuked it...was that ever good.\r\n",
            "\r\n",
            "3. i did do this recipe with sinewy beef scraps cut from a roast once.  i browned the beef in the bottom of the pan, added the butter and onions and continued as written.  the beef added great color and flavor.  in this case, i threw the beef piece away, because it had too much sinew, but it was a great addition!  i ended up using less soy.\r\n",
            "\r\n",
            "4.  i have eye-ball made this soup with amounts i had in the fridge/cupboard and it was great.  so if you don't have that many mushrooms, make it anyway, just keep tasting it until it tastes good to you! \r\n",
            "\r\n",
            "5.  i've made it without food-processing the onions, and that worked just as well.\r\n",
            "\r\n",
            " lots of flexibility here!  try it, it might be the best barley mushroom soup you've ever had!\n",
            "--------------------------------------------------------------------------------\n",
            "i wrote this because there are an astounding lack of chocolate tea recipes on the internet. \r\n",
            "\r\n",
            " the first time i heard about chocolate tea was doing a web search on chocolate. there seem to be a few companies out there who sell chocolate tea. i like to stay up late and had run out of coffee. i was in real need for a good tasting caffene beverage. i first thought chocolate tea would be yucky. we are conditioned to accept chocolate with coffee as a rule but not tea. i was very mistaken! \r\n",
            "\r\n",
            " tea and chocolate goes very well with each other and it is also very good for your body. both tea and chocolate are loaded with antioxidents. you may however not want to give this to small children because of the caffene. \r\n",
            "\r\n",
            " not having a recipe to follow, i created one. (this one) i used these ingredients because i had them on hand and it was quicker than hunting around for my pepermint extract or messing with my powered cocoa.\r\n",
            "\r\n",
            " this being said, if you do want to use powered cocoa or pepermint extract instead of the ovaltine and lifesavers please do so. experiment. this recipe is \"opensource\" :-)\r\n",
            "\r\n",
            " you will have to adjust the sugar levels to taste. if you like you can even omit the mints. i used them and i find it gives the beverage that spceial something.\r\n",
            "\r\n",
            "this recipe makes one large coffee cup of beverage.\r\n",
            "\r\n",
            "if you use regular size coffee cups you may get two servings out of this if serving each person one serving each.\r\n",
            "\r\n",
            "to serve 1 serving each to 2 or 3 people using large coffee cups, double or tripple the recipie accodingly\r\n",
            "\r\n",
            "enjoy !\r\n",
            "\r\n",
            "please let me klnow if you like it! :-)\n",
            "--------------------------------------------------------------------------------\n",
            "the first time i made this cake i grated a million pounds of carrots on a knucklebuster.  then they invented cuisinarts!  now it is much faster to shred the carrots on a fine shredding disk and no bloody knuckles!  i have baked it in 8\", 9\", 9x13\" pans so if you want to experiment with pan size it works.  one thing i found was baking and stacking the three layers is tricky.  my favorite way is two 8\" pans for a nice layer cake and an 8\" square pan to put into the freezer for unexpected company. i hope you try this wonderful cake.  update:  in the spirit of carrot cake stories, this cake was invented by a bunny named foo-foo.  he is very famous and even has a hit song which goes like this: sing to the tune of 'down by the station'..........     \r\n",
            "\r\n",
            "\r\n",
            " little bunny foo foo,\r\n",
            "hopping through the forest,\r\n",
            "scooping up the field mice,\r\n",
            "and boppin' 'em on the head.\r\n",
            "\r\n",
            "down came the good fairy and she said - \r\n",
            "\r\n",
            "\"little bunny foo foo,\r\n",
            "i don't want to see you,\r\n",
            "scooping up the field mice,\r\n",
            "and boppin' 'em on the head.\r\n",
            "i'll give you three chances,\r\n",
            "and if you don't behave ...\r\n",
            "i'll turn you into a goon!\"\r\n",
            "\r\n",
            "the next day:\r\n",
            "\r\n",
            "little bunny foo foo,\r\n",
            "hopping through the forest,\r\n",
            "scooping up the field mice,\r\n",
            "and boppin' 'em on the head.\r\n",
            "\r\n",
            "down came the good fairy and she said:\r\n",
            "\r\n",
            "\"little bunny foo foo,\r\n",
            "i don't want to see you.\r\n",
            "scooping up the field mice.\r\n",
            "and boppin' 'em on the head.\r\n",
            "i'll give you two more chances,\r\n",
            "and if you don't behave...\r\n",
            "i'll turn you into a goon!\"\r\n",
            "\r\n",
            "the next day:\r\n",
            "\r\n",
            "little bunny foo foo,\r\n",
            "hopping through the forest,\r\n",
            "scooping up the field mice,\r\n",
            "and boppin' 'em on the head.\r\n",
            "\r\n",
            "down came the good fairy and she said:\r\n",
            "\r\n",
            "\"little bunny foo foo,\r\n",
            "i don't want to see you,\r\n",
            "scooping up the field mice,\r\n",
            "and boppin' 'em on the head.\r\n",
            "i'll give you one more chance,\r\n",
            "and if you don't behave..........\r\n",
            "i'll turn you into a goon!\"\r\n",
            "\r\n",
            "the next day:\r\n",
            "\r\n",
            "little bunny foo foo,\r\n",
            "hopping through the forest,\r\n",
            "scooping up the field mice,\r\n",
            "and boppin' 'em on the head,\r\n",
            "\r\n",
            "down came the good fairy and she said\r\n",
            "\r\n",
            "\"little bunny foo foo,\r\n",
            "i don't want to see you,\r\n",
            "scooping up the field mice,\r\n",
            "and boppin' 'em on the head.\r\n",
            "i gave you three chances\r\n",
            "and you didn't behave\r\n",
            "now you're a goon! poof!!\"\r\n",
            "\r\n",
            "the moral of the story is:\r\n",
            "hare today, goon tomorrow\n",
            "--------------------------------------------------------------------------------\n"
          ]
        }
      ]
    },
    {
      "cell_type": "markdown",
      "metadata": {
        "id": "BllKDRqH_77e"
      },
      "source": [
        "8\\. Напишите функцию, которая для заданного предложения выводит информацию о частях речи слов, входящих в предложение, в следующем виде:\n",
        "```\n",
        "PRP   VBD   DT      NNS     CC   VBD      NNS        RB   \n",
        " I  omitted the raspberries and added strawberries instead\n",
        "``` \n",
        "Для определения части речи слова можно воспользоваться `nltk.pos_tag`.\n",
        "\n",
        "Проверьте работоспособность функции на названии рецепта с id 241106.\n",
        "\n",
        "Обратите внимание, что часть речи должна находиться ровно посередине над соотвествующим словом, а между самими словами должен быть ровно один пробел.\n"
      ]
    },
    {
      "cell_type": "code",
      "execution_count": 45,
      "metadata": {
        "colab": {
          "base_uri": "https://localhost:8080/"
        },
        "id": "Hej7Pc6Z_77f",
        "outputId": "337421ea-daea-4284-aa06-56f88bedbe77"
      },
      "outputs": [
        {
          "output_type": "stream",
          "name": "stdout",
          "text": [
            "    JJ     eggplant\n",
            "   NNS     steaks\n",
            "    IN     with\n",
            "   NNS     chickpeas\n",
            "   VBP     feta\n",
            "    JJ     cheese\n",
            "    CC     and\n",
            "    JJ     black\n",
            "   NNS     olives\n"
          ]
        },
        {
          "output_type": "stream",
          "name": "stderr",
          "text": [
            "[nltk_data] Downloading package averaged_perceptron_tagger to\n",
            "[nltk_data]     /root/nltk_data...\n",
            "[nltk_data]   Package averaged_perceptron_tagger is already up-to-\n",
            "[nltk_data]       date!\n"
          ]
        }
      ],
      "source": [
        "nltk.download('averaged_perceptron_tagger')\n",
        "\n",
        "def print_pos_tags(text):\n",
        "    pos_tags = nltk.pos_tag(nltk.word_tokenize(text))\n",
        "    for word, pos in pos_tags:\n",
        "        print(\"{0:^10} {1}\".format(pos, word))\n",
        "\n",
        "recipe_name = data_frame[data_frame.id == 241106]['name'].iloc[0]\n",
        "print_pos_tags(recipe_name)"
      ]
    }
  ],
  "metadata": {
    "kernelspec": {
      "display_name": "Python 3 (ipykernel)",
      "language": "python",
      "name": "python3"
    },
    "language_info": {
      "codemirror_mode": {
        "name": "ipython",
        "version": 3
      },
      "file_extension": ".py",
      "mimetype": "text/x-python",
      "name": "python",
      "nbconvert_exporter": "python",
      "pygments_lexer": "ipython3",
      "version": "3.9.7"
    },
    "colab": {
      "provenance": []
    }
  },
  "nbformat": 4,
  "nbformat_minor": 0
}