{
  "cells": [
    {
      "cell_type": "markdown",
      "metadata": {
        "id": "ad9wGC4M81HB"
      },
      "source": [
        "# Numpy"
      ]
    },
    {
      "cell_type": "markdown",
      "metadata": {
        "id": "YILiI7NV81HD"
      },
      "source": [
        "Материалы:\n",
        "* Макрушин С.В. \"Лекция 1: Библиотека Numpy\"\n",
        "* https://numpy.org/doc/stable/user/index.html\n",
        "* https://numpy.org/doc/stable/reference/index.html"
      ]
    },
    {
      "cell_type": "markdown",
      "metadata": {
        "id": "X2X1caHE81HD"
      },
      "source": [
        "## Задачи для совместного разбора"
      ]
    },
    {
      "cell_type": "markdown",
      "metadata": {
        "id": "6h1T0KIK81HD"
      },
      "source": [
        "1. Сгенерировать двухмерный массив `arr` размерности (4, 7), состоящий из случайных действительных чисел, равномерно распределенных в диапазоне от 0 до 20. Нормализовать значения массива с помощью преобразования вида  $𝑎𝑥+𝑏$  так, что после нормализации максимальный элемент масcива будет равен 1.0, минимальный 0.0"
      ]
    },
    {
      "cell_type": "code",
      "execution_count": 1,
      "metadata": {
        "colab": {
          "base_uri": "https://localhost:8080/"
        },
        "id": "5kgdrFvc81HD",
        "outputId": "03de0e3e-45ce-42f9-d75d-788c47d59434"
      },
      "outputs": [
        {
          "output_type": "stream",
          "name": "stdout",
          "text": [
            "Исходный массив:\n",
            " [[ 0.78373443 18.82905465 16.52707892 10.26225706 12.51321603  5.00496866\n",
            "  15.28927375]\n",
            " [ 9.06989631 16.33755103  0.63106311 12.4455526  10.33521397 12.83800543\n",
            "   4.75790617]\n",
            " [17.23361458  3.3850382  11.34860163  7.13431065  3.73156614  3.90954804\n",
            "   9.70750113]\n",
            " [ 2.56756275 19.30124094 14.20459567  1.55433203 19.00721553  6.15012446\n",
            "  18.7829434 ]]\n",
            "Нормализованный массив:\n",
            " [[0.00817728 0.97470906 0.85141213 0.51585979 0.6364242  0.2342723\n",
            "  0.78511361]\n",
            " [0.45199533 0.84126076 0.         0.63280005 0.51976746 0.65382036\n",
            "  0.2210393 ]\n",
            " [0.88925513 0.14750663 0.57404587 0.34832274 0.16606714 0.17560009\n",
            "  0.48614631]\n",
            " [0.10372154 1.         0.72701678 0.04945153 0.9842516  0.2956084\n",
            "  0.97223928]]\n"
          ]
        }
      ],
      "source": [
        "import numpy as np\n",
        "\n",
        "\n",
        "arr = np.random.uniform(low=0, high=20, size=(4, 7))\n",
        "arr_min = np.min(arr)\n",
        "arr_max = np.max(arr)\n",
        "\n",
        "a = 1 / (arr_max - arr_min)\n",
        "b = -arr_min / (arr_max - arr_min)\n",
        "arr_norm = a * arr + b\n",
        "\n",
        "print(\"Исходный массив:\\n\", arr)\n",
        "print(\"Нормализованный массив:\\n\", arr_norm)"
      ]
    },
    {
      "cell_type": "markdown",
      "metadata": {
        "id": "QJMK_3KU81HE"
      },
      "source": [
        "2. Создать матрицу 8 на 10 из случайных целых (используя модуль `numpy.random`) чисел из диапозона от 0 до 10 и найти в ней строку (ее индекс и вывести саму строку), в которой сумма значений минимальна."
      ]
    },
    {
      "cell_type": "code",
      "source": [
        "matrix = np.random.randint(0, 11, size=(8, 10))\n",
        "\n",
        "min_index = np.argmin(np.sum(matrix, axis=1))\n",
        "print(matrix,\"\\n\")\n",
        "print(\"Строка с минимальной суммой значений:\")\n",
        "print(matrix[min_index])"
      ],
      "metadata": {
        "colab": {
          "base_uri": "https://localhost:8080/"
        },
        "id": "nseJdLMQ9-rZ",
        "outputId": "143ad1aa-5027-484f-9747-28cd82730281"
      },
      "execution_count": 6,
      "outputs": [
        {
          "output_type": "stream",
          "name": "stdout",
          "text": [
            "[[ 6  0  3  1  4  7  0  0  2  5]\n",
            " [ 0  7  1  0  2  1  7  7  0  3]\n",
            " [10  8  2  1  6  2  4  0  9  1]\n",
            " [ 9  8  4  9  9  6  3  3  4  7]\n",
            " [10  1  4  2  4  4  4  3  8  1]\n",
            " [ 6  6 10  6  8  2  9  6  8  4]\n",
            " [ 3  7  6  7  3  5  8  4  2  9]\n",
            " [ 2  7  9  4  3 10  1  6  1  1]] \n",
            "\n",
            "Строка с минимальной суммой значений:\n",
            "[6 0 3 1 4 7 0 0 2 5]\n"
          ]
        }
      ]
    },
    {
      "cell_type": "markdown",
      "metadata": {
        "id": "cr77Mx2L81HE"
      },
      "source": [
        "3. Найти евклидово расстояние между двумя одномерными векторами одинаковой размерности."
      ]
    },
    {
      "cell_type": "code",
      "source": [
        "vec1 = np.array([1, 2, 3])\n",
        "vec2 = np.array([4, 5, 6])\n",
        "\n",
        "distance = np.linalg.norm(vec1 - vec2)\n",
        "print(distance)"
      ],
      "metadata": {
        "colab": {
          "base_uri": "https://localhost:8080/"
        },
        "id": "PFg1vao6_DdQ",
        "outputId": "a3cb4e69-9cf0-48e4-c0c5-0eaf62383535"
      },
      "execution_count": 7,
      "outputs": [
        {
          "output_type": "stream",
          "name": "stdout",
          "text": [
            "5.196152422706632\n"
          ]
        }
      ]
    },
    {
      "cell_type": "markdown",
      "metadata": {
        "id": "rqTYLVq281HE"
      },
      "source": [
        "4. Решить матричное уравнение `A*X*B=-C` - найти матрицу `X`. Где `A = [[-1, 2, 4], [-3, 1, 2], [-3, 0, 1]]`, `B=[[3, -1], [2, 1]]`, `C=[[7, 21], [11, 8], [8, 4]]`."
      ]
    },
    {
      "cell_type": "code",
      "source": [
        "A = np.array([[-1, 2, 4], [-3, 1, 2], [-3, 0, 1]])\n",
        "B = np.array([[3, -1], [2, 1]])\n",
        "C = np.array([[7, 21], [11, 8], [8, 4]])\n",
        "\n",
        "X = -np.linalg.inv(A).dot(C).dot(np.linalg.inv(B))\n",
        "\n",
        "print(X)"
      ],
      "metadata": {
        "colab": {
          "base_uri": "https://localhost:8080/"
        },
        "id": "Jv7dS5RC_ZYF",
        "outputId": "c66f06bb-c540-4fe2-fbb1-23c18eae6f3d"
      },
      "execution_count": 8,
      "outputs": [
        {
          "output_type": "stream",
          "name": "stdout",
          "text": [
            "[[ 1.00000000e+00  5.32907052e-16]\n",
            " [-2.00000000e+00  1.00000000e+00]\n",
            " [ 3.00000000e+00 -4.00000000e+00]]\n"
          ]
        }
      ]
    },
    {
      "cell_type": "markdown",
      "metadata": {
        "id": "Xt6RHZUg81HE"
      },
      "source": [
        "## Лабораторная работа №1"
      ]
    },
    {
      "cell_type": "markdown",
      "metadata": {
        "id": "JJpSBR-v81HE"
      },
      "source": [
        "Замечание: при решении данных задач не подразумевается использования циклов или генераторов Python, если в задании не сказано обратного. Решение должно опираться на использования функционала библиотеки `numpy`."
      ]
    },
    {
      "cell_type": "markdown",
      "metadata": {
        "id": "idnQkPiD81HE"
      },
      "source": [
        "1. Файл `minutes_n_ingredients.csv` содержит информацию об идентификаторе рецепта, времени его выполнения в минутах и количестве необходимых ингредиентов. Считайте данные из этого файла в виде массива `numpy` типа `int32`, используя `np.loadtxt`. Выведите на экран первые 5 строк массива."
      ]
    },
    {
      "cell_type": "code",
      "source": [
        "lst = np.loadtxt('minutes_n_ingredients.csv', delimiter=',', dtype=np.int32,skiprows=1)\n",
        "lst[:5]"
      ],
      "metadata": {
        "colab": {
          "base_uri": "https://localhost:8080/"
        },
        "id": "5XpcRUmM_cS3",
        "outputId": "caf90b22-9de7-4565-fe2d-fa0a96da6fac"
      },
      "execution_count": 21,
      "outputs": [
        {
          "output_type": "execute_result",
          "data": {
            "text/plain": [
              "array([[127244,     60,     16],\n",
              "       [ 23891,     25,      7],\n",
              "       [ 94746,     10,      6],\n",
              "       [ 67660,      5,      6],\n",
              "       [157911,     60,     14]], dtype=int32)"
            ]
          },
          "metadata": {},
          "execution_count": 21
        }
      ]
    },
    {
      "cell_type": "markdown",
      "metadata": {
        "id": "tpA8trYZ81HF"
      },
      "source": [
        "2. Вычислите среднее значение, минимум, максимум и медиану по каждому из столбцов, кроме первого."
      ]
    },
    {
      "cell_type": "code",
      "source": [
        "for column in range(1,3): \n",
        "  print(f'среднее значение: {np.mean(lst[:, column])}', f'минимум: {np.min(lst[:, column])}', f'максимум: {np.max(lst[:, column])}', f'медиана: {np.median(lst[:, column])}', sep='\\n', end='\\n\\n')"
      ],
      "metadata": {
        "colab": {
          "base_uri": "https://localhost:8080/"
        },
        "id": "L2-SrSq5_cxz",
        "outputId": "8f02a7b7-1955-4b15-d9e8-b9bfdb8fc1cb"
      },
      "execution_count": 22,
      "outputs": [
        {
          "output_type": "stream",
          "name": "stdout",
          "text": [
            "среднее значение: 21601.00169\n",
            "минимум: 0\n",
            "максимум: 2147483647\n",
            "медиана: 40.0\n",
            "\n",
            "среднее значение: 9.05528\n",
            "минимум: 1\n",
            "максимум: 39\n",
            "медиана: 9.0\n",
            "\n"
          ]
        }
      ]
    },
    {
      "cell_type": "markdown",
      "metadata": {
        "id": "TBrPDtc-81HF"
      },
      "source": [
        "3. Ограничьте сверху значения продолжительности выполнения рецепта значением квантиля $q_{0.75}$. "
      ]
    },
    {
      "cell_type": "code",
      "source": [
        "qua = np.quantile(lst[:,1], 0.75)\n",
        "o = lst[:,1] <= qua\n",
        "lst[o]"
      ],
      "metadata": {
        "colab": {
          "base_uri": "https://localhost:8080/"
        },
        "id": "2QPzq1VX_dTE",
        "outputId": "38ecdfca-76fe-4b50-deab-befdddc079d0"
      },
      "execution_count": 25,
      "outputs": [
        {
          "output_type": "execute_result",
          "data": {
            "text/plain": [
              "array([[127244,     60,     16],\n",
              "       [ 23891,     25,      7],\n",
              "       [ 94746,     10,      6],\n",
              "       ...,\n",
              "       [ 43407,     35,      7],\n",
              "       [498432,     65,     15],\n",
              "       [370915,      5,      4]], dtype=int32)"
            ]
          },
          "metadata": {},
          "execution_count": 25
        }
      ]
    },
    {
      "cell_type": "markdown",
      "metadata": {
        "id": "9K8kB90q81HF"
      },
      "source": [
        "4. Посчитайте, для скольких рецептов указана продолжительность, равная нулю. Замените для таких строк значение в данном столбце на 1."
      ]
    },
    {
      "cell_type": "code",
      "source": [
        "num_times = np.sum(lst[:, 1] == 0)\n",
        "print(\"Количество рецептов со временем выполнения, равным 0: \", num_times)\n",
        "lst[:, 1] = np.where(lst[:, 1] == 0, 1, lst[:, 1])\n"
      ],
      "metadata": {
        "colab": {
          "base_uri": "https://localhost:8080/"
        },
        "id": "pxVQKbc-_eDo",
        "outputId": "7ed82dc8-8bf8-4b5f-f06f-32f69aaab6b2"
      },
      "execution_count": 26,
      "outputs": [
        {
          "output_type": "stream",
          "name": "stdout",
          "text": [
            "Количество рецептов со временем выполнения, равным 0:  479\n"
          ]
        }
      ]
    },
    {
      "cell_type": "markdown",
      "metadata": {
        "id": "jkf1uoT_81HF"
      },
      "source": [
        "5. Посчитайте, сколько уникальных рецептов находится в датасете."
      ]
    },
    {
      "cell_type": "code",
      "source": [
        "uni = np.unique(lst[:, 1:], axis=0).shape[0]\n",
        "print(uni)"
      ],
      "metadata": {
        "colab": {
          "base_uri": "https://localhost:8080/"
        },
        "id": "ORCkbiAx_eY8",
        "outputId": "b544d3fb-820a-4885-f18b-60ee3fb0e417"
      },
      "execution_count": 29,
      "outputs": [
        {
          "output_type": "stream",
          "name": "stdout",
          "text": [
            "4183\n"
          ]
        }
      ]
    },
    {
      "cell_type": "markdown",
      "metadata": {
        "id": "bu6-Fxda81HF"
      },
      "source": [
        "6. Сколько и каких различных значений кол-ва ингредиентов присутвует в рецептах из датасета?"
      ]
    },
    {
      "cell_type": "code",
      "source": [
        "uni = np.unique(lst[:, 2])\n",
        "col_uni = uni.shape[0]\n",
        "print('Кол-во:', col_uni, 'Какие:', uni, sep='\\n')"
      ],
      "metadata": {
        "colab": {
          "base_uri": "https://localhost:8080/"
        },
        "id": "jDrEw0mo_e5b",
        "outputId": "d2312dfe-17e1-45a6-ec29-3e289b25eb95"
      },
      "execution_count": 31,
      "outputs": [
        {
          "output_type": "stream",
          "name": "stdout",
          "text": [
            "Кол-во:\n",
            "37\n",
            "Какие:\n",
            "[ 1  2  3  4  5  6  7  8  9 10 11 12 13 14 15 16 17 18 19 20 21 22 23 24\n",
            " 25 26 27 28 29 30 31 32 33 34 35 37 39]\n"
          ]
        }
      ]
    },
    {
      "cell_type": "markdown",
      "metadata": {
        "id": "oEkcI--d81HF"
      },
      "source": [
        "7. Создайте версию массива, содержащую информацию только о рецептах, состоящих не более чем из 5 ингредиентов."
      ]
    },
    {
      "cell_type": "code",
      "source": [
        "ingredients = lst[lst[:, 2] <= 5]\n",
        "ingredients"
      ],
      "metadata": {
        "colab": {
          "base_uri": "https://localhost:8080/"
        },
        "id": "LnUbEUQk_fcQ",
        "outputId": "0bd1bac9-5a19-477a-93d0-b53b63880b49"
      },
      "execution_count": 33,
      "outputs": [
        {
          "output_type": "execute_result",
          "data": {
            "text/plain": [
              "array([[446597,     15,      5],\n",
              "       [204134,      5,      3],\n",
              "       [ 25623,      6,      4],\n",
              "       ...,\n",
              "       [ 52088,     60,      5],\n",
              "       [128811,     15,      4],\n",
              "       [370915,      5,      4]], dtype=int32)"
            ]
          },
          "metadata": {},
          "execution_count": 33
        }
      ]
    },
    {
      "cell_type": "markdown",
      "metadata": {
        "id": "n2tM4qVO81HF"
      },
      "source": [
        "8. Для каждого рецепта посчитайте, сколько в среднем ингредиентов приходится на одну минуту рецепта. Найдите максимальное значение этой величины для всего датасета"
      ]
    },
    {
      "cell_type": "code",
      "source": [
        "ingredients = lst[:, 2] / lst[:, 1]\n",
        "print(ingredients)\n",
        "\n",
        "max_ingredients = np.max(ingredients)\n",
        "print(max_ingredients)"
      ],
      "metadata": {
        "colab": {
          "base_uri": "https://localhost:8080/"
        },
        "id": "pzaxmRfP_gT0",
        "outputId": "59935397-08a8-4947-c8d7-577c530b8cfb"
      },
      "execution_count": 34,
      "outputs": [
        {
          "output_type": "stream",
          "name": "stdout",
          "text": [
            "[0.26666667 0.28       0.6        ... 0.23076923 0.8        0.1       ]\n",
            "24.0\n"
          ]
        }
      ]
    },
    {
      "cell_type": "markdown",
      "metadata": {
        "id": "CCGCIjui81HF"
      },
      "source": [
        "9. Вычислите среднее количество ингредиентов для топ-100 рецептов с наибольшей продолжительностью"
      ]
    },
    {
      "cell_type": "code",
      "source": [
        "top = lst[lst[:, 1].argsort()[::-1]][:100]\n",
        "print(top[:,1].mean())"
      ],
      "metadata": {
        "colab": {
          "base_uri": "https://localhost:8080/"
        },
        "id": "O-pForVo_goV",
        "outputId": "e2126fc5-d4b8-428e-8ee4-f8482dcfeac4"
      },
      "execution_count": 36,
      "outputs": [
        {
          "output_type": "stream",
          "name": "stdout",
          "text": [
            "21518445.39\n"
          ]
        }
      ]
    },
    {
      "cell_type": "markdown",
      "metadata": {
        "id": "mqbcCIC281HG"
      },
      "source": [
        "10. Выберите случайным образом и выведите информацию о 10 различных рецептах"
      ]
    },
    {
      "cell_type": "code",
      "source": [
        "randd = lst[np.random.randint(lst.shape[0], size=10)]\n",
        "print(randd)"
      ],
      "metadata": {
        "colab": {
          "base_uri": "https://localhost:8080/"
        },
        "id": "lvcd84zP_hCJ",
        "outputId": "93611e41-ee7b-42c5-d13a-9b8b095dabd4"
      },
      "execution_count": 37,
      "outputs": [
        {
          "output_type": "stream",
          "name": "stdout",
          "text": [
            "[[ 93543      6      5]\n",
            " [114174     20      8]\n",
            " [104215     50     11]\n",
            " [346599     25      6]\n",
            " [295273     15      5]\n",
            " [ 40056    190      9]\n",
            " [ 71535     75      5]\n",
            " [223584     25      8]\n",
            " [ 51784     15     12]\n",
            " [107404    120     22]]\n"
          ]
        }
      ]
    },
    {
      "cell_type": "markdown",
      "metadata": {
        "id": "lpdV09uJ81HG"
      },
      "source": [
        "11. Выведите процент рецептов, кол-во ингредиентов в которых меньше среднего."
      ]
    },
    {
      "cell_type": "code",
      "source": [
        "less = lst[lst[:, 2] < np.mean(lst[:, 2])]\n",
        "p_less = len(less) / len(lst) * 100\n",
        "print(p_less)"
      ],
      "metadata": {
        "colab": {
          "base_uri": "https://localhost:8080/"
        },
        "id": "cHtcSjOK_hWp",
        "outputId": "78f8a9fb-28ec-475b-d028-98c5ddd41c5e"
      },
      "execution_count": 38,
      "outputs": [
        {
          "output_type": "stream",
          "name": "stdout",
          "text": [
            "58.802\n"
          ]
        }
      ]
    },
    {
      "cell_type": "markdown",
      "metadata": {
        "id": "6zsv3EPn81HG"
      },
      "source": [
        "12. Назовем \"простым\" такой рецепт, длительность выполнения которого не больше 20 минут и кол-во ингредиентов в котором не больше 5. Создайте версию датасета с дополнительным столбцом, значениями которого являются 1, если рецепт простой, и 0 в противном случае."
      ]
    },
    {
      "cell_type": "code",
      "source": [
        "simple = lst.copy()\n",
        "mm = (lst[:, 1] <= 20) & (lst[:, 2] <= 5)\n",
        "new = mm.astype(int)\n",
        "simple = np.column_stack([simple, new])\n",
        "simple"
      ],
      "metadata": {
        "colab": {
          "base_uri": "https://localhost:8080/"
        },
        "id": "CM29IMmJ_hsm",
        "outputId": "5b1805a1-2ed8-4de1-9dbb-8196411e6fb9"
      },
      "execution_count": 40,
      "outputs": [
        {
          "output_type": "execute_result",
          "data": {
            "text/plain": [
              "array([[127244,     60,     16,      0],\n",
              "       [ 23891,     25,      7,      0],\n",
              "       [ 94746,     10,      6,      0],\n",
              "       ...,\n",
              "       [498432,     65,     15,      0],\n",
              "       [370915,      5,      4,      1],\n",
              "       [ 81993,    140,     14,      0]])"
            ]
          },
          "metadata": {},
          "execution_count": 40
        }
      ]
    },
    {
      "cell_type": "markdown",
      "metadata": {
        "id": "7eeCAzli81HG"
      },
      "source": [
        "13. Выведите процент \"простых\" рецептов в датасете"
      ]
    },
    {
      "cell_type": "code",
      "source": [
        "pe = simple[:,3] == 1\n",
        "count = np.count_nonzero(pe)\n",
        "print(count / simple.shape[0] *100, '%')"
      ],
      "metadata": {
        "colab": {
          "base_uri": "https://localhost:8080/"
        },
        "id": "-x7TR9MB_iJ3",
        "outputId": "87136fab-630d-4738-c1b9-9b1648b5041c"
      },
      "execution_count": 41,
      "outputs": [
        {
          "output_type": "stream",
          "name": "stdout",
          "text": [
            "9.552 %\n"
          ]
        }
      ]
    },
    {
      "cell_type": "markdown",
      "metadata": {
        "id": "91h6tEX181HG"
      },
      "source": [
        "14. Разделим рецепты на группы по следующему правилу. Назовем рецепты короткими, если их продолжительность составляет менее 10 минут; стандартными, если их продолжительность составляет более 10, но менее 20 минут; и длинными, если их продолжительность составляет не менее 20 минут. Создайте трехмерный массив, где нулевая ось отвечает за номер группы (короткий, стандартный или длинный рецепт), первая ось - за сам рецепт и вторая ось - за характеристики рецепта. Выберите максимальное количество рецептов из каждой группы таким образом, чтобы было возможно сформировать трехмерный массив. Выведите форму полученного массива."
      ]
    },
    {
      "cell_type": "code",
      "execution_count": 46,
      "metadata": {
        "colab": {
          "base_uri": "https://localhost:8080/"
        },
        "id": "wsi9ucxp81HG",
        "outputId": "f25fc6dd-b733-438f-eb7b-b1f839991364"
      },
      "outputs": [
        {
          "output_type": "execute_result",
          "data": {
            "text/plain": [
              "array([[[ 67660,      5,      6],\n",
              "        [366174,      7,      9],\n",
              "        [204134,      5,      3],\n",
              "        ...,\n",
              "        [420725,      5,      3],\n",
              "        [  4747,      1,      9],\n",
              "        [370915,      5,      4]],\n",
              "\n",
              "       [[ 94746,     10,      6],\n",
              "        [ 33941,     18,      9],\n",
              "        [446597,     15,      5],\n",
              "        ...,\n",
              "        [  9831,     15,      7],\n",
              "        [335859,     12,     14],\n",
              "        [256812,     10,      3]],\n",
              "\n",
              "       [[127244,     60,     16],\n",
              "        [ 23891,     25,      7],\n",
              "        [157911,     60,     14],\n",
              "        ...,\n",
              "        [168901,     25,      7],\n",
              "        [392339,     35,     13],\n",
              "        [206732,     45,     10]]], dtype=int32)"
            ]
          },
          "metadata": {},
          "execution_count": 46
        }
      ],
      "source": [
        "short = lst[lst[:,1] < 10]\n",
        "mm = (lst[:,1] >= 10) & (lst[:,1] < 20)\n",
        "original = lst[mm]\n",
        "long = lst[lst[:,1] >= 20]\n",
        "minimal = min(short.shape[0], original.shape[0], long.shape[0])\n",
        "result = np.array([short[:minimal], original[:minimal], long[:minimal]])\n",
        "result"
      ]
    }
  ],
  "metadata": {
    "kernelspec": {
      "display_name": "Python 3",
      "language": "python",
      "name": "python3"
    },
    "language_info": {
      "codemirror_mode": {
        "name": "ipython",
        "version": 3
      },
      "file_extension": ".py",
      "mimetype": "text/x-python",
      "name": "python",
      "nbconvert_exporter": "python",
      "pygments_lexer": "ipython3",
      "version": "3.7.6"
    },
    "colab": {
      "provenance": []
    }
  },
  "nbformat": 4,
  "nbformat_minor": 0
}
